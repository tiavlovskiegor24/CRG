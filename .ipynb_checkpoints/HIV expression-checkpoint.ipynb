{
 "cells": [
  {
   "cell_type": "markdown",
   "metadata": {},
   "source": [
    "## To do\n",
    "- Read the paper and understand the experiment\n",
    "- Study expression for significant histones within 5000 bases\n",
    "- Pick up gradient boosting\n",
    "- Apply PCA for preprocessing and on results of SVC\n",
    "- Check the trained classifiers on test dataset\n",
    "\n",
    "## Done\n",
    "- Performed kernel PCA on the minmaxscaled log X_train dataset\n",
    "    - No separation revealed\n",
    "- Ran paramGridSearch on Random forest and achieved 0.56 (+/- 0.03) accuracy with min_sample split of 100\n",
    "- Created a pipiline of standard scaler and SVC using RBF for 5Kfold cross-validation\n",
    "- Ran paramGridSearch on SVC with cross-validation and found optimum params {\"C\":1,\"gamma\":0.1} with cross-validation accuracy of 0.55 (+/- 0.01)\n",
    "- take log10 of all position features and normalize\n",
    "- then applied logistic regression\n",
    "- Apply the stratified shuffle split during cross validation"
   ]
  },
  {
   "cell_type": "code",
   "execution_count": 1,
   "metadata": {
    "collapsed": true
   },
   "outputs": [],
   "source": [
    "%matplotlib inline"
   ]
  },
  {
   "cell_type": "code",
   "execution_count": 6,
   "metadata": {
    "collapsed": false
   },
   "outputs": [
    {
     "data": {
      "application/javascript": [
       "IPython.OutputArea.prototype._should_scroll = function(lines) {\n",
       "    return false;\n",
       "}"
      ],
      "text/plain": [
       "<IPython.core.display.Javascript object>"
      ]
     },
     "metadata": {},
     "output_type": "display_data"
    }
   ],
   "source": [
    "%%javascript\n",
    "IPython.OutputArea.prototype._should_scroll = function(lines) {\n",
    "    return false;\n",
    "}"
   ]
  },
  {
   "cell_type": "code",
   "execution_count": 1,
   "metadata": {
    "collapsed": false
   },
   "outputs": [],
   "source": [
    "import numpy as np\n",
    "import pandas as pd \n",
    "import matplotlib.pyplot as plt\n",
    "%matplotlib inline\n",
    "\n",
    "from sklearn.model_selection import StratifiedShuffleSplit,StratifiedKFold\n",
    "from sklearn.model_selection import cross_val_score\n",
    "from sklearn.ensemble import RandomForestClassifier,AdaBoostClassifier\n",
    "from sklearn.tree import DecisionTreeRegressor,DecisionTreeClassifier\n",
    "from sklearn.preprocessing import StandardScaler,MinMaxScaler,minmax_scale\n",
    "from sklearn.linear_model import LogisticRegression\n",
    "from sklearn import svm\n",
    "#from sklearn import grid_search\n",
    "from sklearn.model_selection import GridSearchCV\n",
    "from sklearn import metrics\n",
    "from sklearn.pipeline import make_pipeline\n",
    "from time import time\n",
    "from sklearn.decomposition import PCA, KernelPCA"
   ]
  },
  {
   "cell_type": "code",
   "execution_count": 18,
   "metadata": {
    "collapsed": false
   },
   "outputs": [
    {
     "name": "stdout",
     "output_type": "stream",
     "text": [
      "Once deleted, variables cannot be recovered. Proceed (y/[n])? y\n"
     ]
    }
   ],
   "source": [
    "%reset"
   ]
  },
  {
   "cell_type": "code",
   "execution_count": 2,
   "metadata": {
    "collapsed": false
   },
   "outputs": [
    {
     "name": "stdout",
     "output_type": "stream",
     "text": [
      "/home/etiavlovsky/CRG\n"
     ]
    }
   ],
   "source": [
    "cd ~/CRG"
   ]
  },
  {
   "cell_type": "code",
   "execution_count": 21,
   "metadata": {
    "collapsed": false
   },
   "outputs": [],
   "source": [
    "%run scripts/dataset_processing.py\n",
    "features = load_feature_names(\"Features.txt\")"
   ]
  },
  {
   "cell_type": "code",
   "execution_count": 167,
   "metadata": {
    "collapsed": true
   },
   "outputs": [],
   "source": [
    "filename = \"Jurkat_hiv_50kb.txt\"\n",
    "df = pd.read_table(filename,comment=\"#\")"
   ]
  },
  {
   "cell_type": "code",
   "execution_count": 170,
   "metadata": {
    "collapsed": false
   },
   "outputs": [
    {
     "name": "stdout",
     "output_type": "stream",
     "text": [
      "\n",
      "Importing features from files\n",
      "\tImporting feature: row_sum\n",
      "\tImporting feature: gmfpt\n",
      "\tImporting feature: c_decay\n",
      "\n",
      "Dropping features\n",
      "\n",
      "Handling NaNs\n",
      "\tDropping 433 samples with NaN entries\n",
      "0\n",
      "\n",
      "Forming target values\n",
      "Binary label split: 0.51\n",
      "(10945,)\n",
      "\n",
      "Spliting into train and test and saving the datasets\n"
     ]
    }
   ],
   "source": [
    "%run scripts/dataset_processing.py\n",
    "create_full_dataset(\"Jurkat_hiv_50kb.txt\")"
   ]
  },
  {
   "cell_type": "code",
   "execution_count": 22,
   "metadata": {
    "collapsed": false
   },
   "outputs": [
    {
     "data": {
      "text/plain": [
       "'distance from closest active gene body'"
      ]
     },
     "execution_count": 22,
     "metadata": {},
     "output_type": "execute_result"
    }
   ],
   "source": [
    "features[\"d_actgen\"]"
   ]
  },
  {
   "cell_type": "code",
   "execution_count": 86,
   "metadata": {
    "collapsed": false
   },
   "outputs": [
    {
     "data": {
      "text/plain": [
       "(<matplotlib.figure.Figure at 0x7fb2203e6250>,\n",
       " <matplotlib.axes._subplots.AxesSubplot at 0x7fb220233e90>)"
      ]
     },
     "execution_count": 86,
     "metadata": {},
     "output_type": "execute_result"
    },
    {
     "data": {
      "image/png": "[encoded data removed]",
      "text/plain": [
       "<matplotlib.figure.Figure at 0x7fb2203e6250>"
      ]
     },
     "metadata": {},
     "output_type": "display_data"
    }
   ],
   "source": [
    "%run scripts/myplot.py\n",
    "myplot(ML_inputs[\"features\"][:,75])"
   ]
  },
  {
   "cell_type": "code",
   "execution_count": 193,
   "metadata": {
    "collapsed": false,
    "scrolled": true
   },
   "outputs": [
    {
     "name": "stdout",
     "output_type": "stream",
     "text": [
      "\n",
      "Encoding categorical values\n",
      "\n",
      "\tThere are (5,) unique values for \"cat\" feature.\n",
      "\t['AG' 'AP' 'EN' 'IN' 'SG']\n",
      "\n",
      "\tThere are (2,) unique values for \"strand\" feature.\n",
      "\t['+' '-']\n",
      "\n",
      "Extracting target values\n",
      "<function <lambda> at 0x7ffcf1d805f0>\n",
      "{'distances': [0, 1, 2, 3, 4, 5, 6, 7, 8, 9, 10, 11, 12, 13, 14, 15, 16, 17, 18, 19, 20, 21, 22, 23, 24, 25, 26, 27, 28, 29, 30, 31, 32, 33, 34, 35, 36, 37, 38, 39, 40, 41, 42, 43, 44, 45, 46, 47, 48, 49, 50, 51, 52, 53, 54, 55, 56, 57, 58, 59, 60, 61, 62, 63, 64, 65, 66, 67, 68]}\n",
      "\n",
      "Exctacting feature matrix\n",
      "\n",
      "Applying log to some to features with mean/median > 2\n"
     ]
    },
    {
     "ename": "NameError",
     "evalue": "global name 'mean' is not defined",
     "output_type": "error",
     "traceback": [
      "\u001b[0;31m---------------------------------------------------------------------------\u001b[0m",
      "\u001b[0;31mNameError\u001b[0m                                 Traceback (most recent call last)",
      "\u001b[0;32m<ipython-input-193-a0b3649faa2e>\u001b[0m in \u001b[0;36m<module>\u001b[0;34m()\u001b[0m\n\u001b[1;32m      1\u001b[0m \u001b[0mget_ipython\u001b[0m\u001b[0;34m(\u001b[0m\u001b[0;34m)\u001b[0m\u001b[0;34m.\u001b[0m\u001b[0mmagic\u001b[0m\u001b[0;34m(\u001b[0m\u001b[0;34mu'run scripts/dataset_processing.py'\u001b[0m\u001b[0;34m)\u001b[0m\u001b[0;34m\u001b[0m\u001b[0m\n\u001b[0;32m----> 2\u001b[0;31m \u001b[0mML_inputs\u001b[0m \u001b[0;34m=\u001b[0m \u001b[0mget_ML_inputs\u001b[0m\u001b[0;34m(\u001b[0m\u001b[0;34m\"Jurkat_hiv_train_50kb.txt\"\u001b[0m\u001b[0;34m,\u001b[0m\u001b[0mgroups\u001b[0m \u001b[0;34m=\u001b[0m \u001b[0;34m[\u001b[0m\u001b[0;34m\"chrom\"\u001b[0m\u001b[0;34m]\u001b[0m\u001b[0;34m,\u001b[0m\u001b[0mcat\u001b[0m \u001b[0;34m=\u001b[0m \u001b[0;34m\"train\"\u001b[0m\u001b[0;34m)\u001b[0m\u001b[0;34m\u001b[0m\u001b[0m\n\u001b[0m",
      "\u001b[0;32m/home/etiavlovsky/CRG/scripts/dataset_processing.py\u001b[0m in \u001b[0;36mget_ML_inputs\u001b[0;34m(source, groups, cat, feature_types)\u001b[0m\n\u001b[1;32m    103\u001b[0m     \u001b[0mmedians\u001b[0m \u001b[0;34m=\u001b[0m \u001b[0mnp\u001b[0m\u001b[0;34m.\u001b[0m\u001b[0mmedian\u001b[0m\u001b[0;34m(\u001b[0m\u001b[0mfeatures\u001b[0m\u001b[0;34m,\u001b[0m\u001b[0maxis\u001b[0m\u001b[0;34m=\u001b[0m\u001b[0;36m0\u001b[0m\u001b[0;34m)\u001b[0m\u001b[0;34m\u001b[0m\u001b[0m\n\u001b[1;32m    104\u001b[0m     \u001b[0mmedians\u001b[0m\u001b[0;34m[\u001b[0m\u001b[0mnp\u001b[0m\u001b[0;34m.\u001b[0m\u001b[0mwhere\u001b[0m\u001b[0;34m(\u001b[0m\u001b[0mmedians\u001b[0m \u001b[0;34m==\u001b[0m \u001b[0;36m0\u001b[0m\u001b[0;34m)\u001b[0m\u001b[0;34m]\u001b[0m \u001b[0;34m=\u001b[0m \u001b[0;36m1\u001b[0m\u001b[0;34m\u001b[0m\u001b[0m\n\u001b[0;32m--> 105\u001b[0;31m     \u001b[0midx\u001b[0m \u001b[0;34m=\u001b[0m \u001b[0mnp\u001b[0m\u001b[0;34m.\u001b[0m\u001b[0mwhere\u001b[0m\u001b[0;34m(\u001b[0m\u001b[0mmean\u001b[0m\u001b[0;34m)\u001b[0m\u001b[0;34m\u001b[0m\u001b[0m\n\u001b[0m\u001b[1;32m    106\u001b[0m     \u001b[0;32mprint\u001b[0m \u001b[0mmin\u001b[0m\u001b[0;34m(\u001b[0m\u001b[0mmeans\u001b[0m\u001b[0;34m)\u001b[0m\u001b[0;34m\u001b[0m\u001b[0m\n\u001b[1;32m    107\u001b[0m \u001b[0;34m\u001b[0m\u001b[0m\n",
      "\u001b[0;31mNameError\u001b[0m: global name 'mean' is not defined"
     ]
    }
   ],
   "source": [
    "%run scripts/dataset_processing.py\n",
    "ML_inputs = get_ML_inputs(\"Jurkat_hiv_train_50kb.txt\",groups = [\"chrom\"],cat = \"train\")"
   ]
  },
  {
   "cell_type": "code",
   "execution_count": 185,
   "metadata": {
    "collapsed": false
   },
   "outputs": [
    {
     "ename": "SyntaxError",
     "evalue": "invalid syntax (<ipython-input-185-2785de78d0e6>, line 1)",
     "output_type": "error",
     "traceback": [
      "\u001b[0;36m  File \u001b[0;32m\"<ipython-input-185-2785de78d0e6>\"\u001b[0;36m, line \u001b[0;32m1\u001b[0m\n\u001b[0;31m    [i if i % 5==0 for i in xrange(50)]\u001b[0m\n\u001b[0m                     ^\u001b[0m\n\u001b[0;31mSyntaxError\u001b[0m\u001b[0;31m:\u001b[0m invalid syntax\n"
     ]
    }
   ],
   "source": [
    "[i if i % 5==0 for i in xrange(50)]"
   ]
  },
  {
   "cell_type": "code",
   "execution_count": 115,
   "metadata": {
    "collapsed": false,
    "scrolled": true
   },
   "outputs": [
    {
     "ename": "AttributeError",
     "evalue": "'ML_inputs_tuple' object has no attribute 'features'",
     "output_type": "error",
     "traceback": [
      "\u001b[0;31m---------------------------------------------------------------------------\u001b[0m",
      "\u001b[0;31mAttributeError\u001b[0m                            Traceback (most recent call last)",
      "\u001b[0;32m<ipython-input-115-484e0bfa6edb>\u001b[0m in \u001b[0;36m<module>\u001b[0;34m()\u001b[0m\n\u001b[0;32m----> 1\u001b[0;31m \u001b[0mML_inputs\u001b[0m\u001b[0;34m.\u001b[0m\u001b[0mfeatures\u001b[0m\u001b[0;34m\u001b[0m\u001b[0m\n\u001b[0m",
      "\u001b[0;31mAttributeError\u001b[0m: 'ML_inputs_tuple' object has no attribute 'features'"
     ]
    }
   ],
   "source": [
    "ML_inputs.features"
   ]
  },
  {
   "cell_type": "code",
   "execution_count": 135,
   "metadata": {
    "collapsed": false
   },
   "outputs": [
    {
     "name": "stdout",
     "output_type": "stream",
     "text": [
      "d_actgen\n",
      "66197.7638691 0.0\n"
     ]
    },
    {
     "data": {
      "image/png": "[encoded data removed]",
      "text/plain": [
       "<matplotlib.figure.Figure at 0x7ffcf2497dd0>"
      ]
     },
     "metadata": {},
     "output_type": "display_data"
    }
   ],
   "source": [
    "feature = 0\n",
    "myplot(ML_inputs[\"features\"][:,feature],style = \".\")\n",
    "print ML_inputs[\"feature_names\"][feature]\n",
    "print np.mean(ML_inputs[\"features\"][:,feature]),np.median(ML_inputs[\"features\"][:,feature])"
   ]
  },
  {
   "cell_type": "code",
   "execution_count": 69,
   "metadata": {
    "collapsed": false
   },
   "outputs": [
    {
     "ename": "KeyboardInterrupt",
     "evalue": "",
     "output_type": "error",
     "traceback": [
      "\u001b[0;31m---------------------------------------------------------------------------\u001b[0m",
      "\u001b[0;31mKeyboardInterrupt\u001b[0m                         Traceback (most recent call last)",
      "\u001b[0;32m<ipython-input-69-1832a2c6da5e>\u001b[0m in \u001b[0;36m<module>\u001b[0;34m()\u001b[0m\n\u001b[1;32m      1\u001b[0m \u001b[0mget_ipython\u001b[0m\u001b[0;34m(\u001b[0m\u001b[0;34m)\u001b[0m\u001b[0;34m.\u001b[0m\u001b[0mmagic\u001b[0m\u001b[0;34m(\u001b[0m\u001b[0;34mu'run scripts/ML_pipelines.py'\u001b[0m\u001b[0;34m)\u001b[0m\u001b[0;34m\u001b[0m\u001b[0m\n\u001b[0;32m----> 2\u001b[0;31m \u001b[0mrun_ML\u001b[0m\u001b[0;34m(\u001b[0m\u001b[0mML_inputs\u001b[0m\u001b[0;34m,\u001b[0m\u001b[0mn_estimators\u001b[0m \u001b[0;34m=\u001b[0m \u001b[0;36m30\u001b[0m\u001b[0;34m)\u001b[0m\u001b[0;34m\u001b[0m\u001b[0m\n\u001b[0m",
      "\u001b[0;32m/home/etiavlovsky/CRG/scripts/ML_pipelines.py\u001b[0m in \u001b[0;36mrun_ML\u001b[0;34m(ML_inputs, estimator, by_group, **kwargs)\u001b[0m\n\u001b[1;32m     80\u001b[0m     \u001b[0;32mif\u001b[0m \u001b[0mby_group\u001b[0m \u001b[0;32mis\u001b[0m \u001b[0mNone\u001b[0m\u001b[0;34m:\u001b[0m\u001b[0;34m\u001b[0m\u001b[0m\n\u001b[1;32m     81\u001b[0m         \u001b[0mX\u001b[0m \u001b[0;34m=\u001b[0m \u001b[0mML_inputs\u001b[0m\u001b[0;34m[\u001b[0m\u001b[0;34m\"features\"\u001b[0m\u001b[0;34m]\u001b[0m\u001b[0;34m\u001b[0m\u001b[0m\n\u001b[0;32m---> 82\u001b[0;31m         \u001b[0my\u001b[0m \u001b[0;34m=\u001b[0m \u001b[0mML_inputs\u001b[0m\u001b[0;34m[\u001b[0m\u001b[0;34m\"targets\"\u001b[0m\u001b[0;34m]\u001b[0m\u001b[0;34m\u001b[0m\u001b[0m\n\u001b[0m\u001b[1;32m     83\u001b[0m         \u001b[0;32mprint\u001b[0m \u001b[0;34m\"Running ML...\"\u001b[0m\u001b[0;34m\u001b[0m\u001b[0m\n\u001b[1;32m     84\u001b[0m         \u001b[0mestimator\u001b[0m\u001b[0;34m(\u001b[0m\u001b[0mX\u001b[0m\u001b[0;34m,\u001b[0m\u001b[0my\u001b[0m\u001b[0;34m,\u001b[0m\u001b[0;34m**\u001b[0m\u001b[0mkwargs\u001b[0m\u001b[0;34m)\u001b[0m\u001b[0;34m\u001b[0m\u001b[0m\n",
      "\u001b[0;32m/home/etiavlovsky/CRG/scripts/ML_pipelines.py\u001b[0m in \u001b[0;36mRF_pipeline\u001b[0;34m(X, y, parameters, **kwargs)\u001b[0m\n\u001b[1;32m     23\u001b[0m     \u001b[0;32mif\u001b[0m \u001b[0mparameters\u001b[0m \u001b[0;32mis\u001b[0m \u001b[0mNone\u001b[0m\u001b[0;34m:\u001b[0m\u001b[0;34m\u001b[0m\u001b[0m\n\u001b[1;32m     24\u001b[0m         \u001b[0mparameters\u001b[0m \u001b[0;34m=\u001b[0m \u001b[0;34m{\u001b[0m\u001b[0;34m\"max_features\"\u001b[0m\u001b[0;34m:\u001b[0m\u001b[0;34m(\u001b[0m\u001b[0;36m5\u001b[0m\u001b[0;34m,\u001b[0m\u001b[0;34m\"auto\"\u001b[0m\u001b[0;34m,\u001b[0m\u001b[0;36m20\u001b[0m\u001b[0;34m)\u001b[0m\u001b[0;34m,\u001b[0m\u001b[0;34m\"min_samples_split\"\u001b[0m\u001b[0;34m:\u001b[0m\u001b[0;34m(\u001b[0m\u001b[0;36m2\u001b[0m\u001b[0;34m,\u001b[0m\u001b[0;36m10\u001b[0m\u001b[0;34m,\u001b[0m\u001b[0;36m50\u001b[0m\u001b[0;34m,\u001b[0m\u001b[0;36m100\u001b[0m\u001b[0;34m)\u001b[0m\u001b[0;34m}\u001b[0m\u001b[0;34m\u001b[0m\u001b[0m\n\u001b[0;32m---> 25\u001b[0;31m     \u001b[0mclf\u001b[0m \u001b[0;34m=\u001b[0m \u001b[0mgrid_search\u001b[0m\u001b[0;34m(\u001b[0m\u001b[0mclf\u001b[0m\u001b[0;34m,\u001b[0m\u001b[0mX\u001b[0m\u001b[0;34m,\u001b[0m\u001b[0my\u001b[0m\u001b[0;34m,\u001b[0m\u001b[0mparameters\u001b[0m\u001b[0;34m)\u001b[0m\u001b[0;34m\u001b[0m\u001b[0m\n\u001b[0m\u001b[1;32m     26\u001b[0m     \u001b[0;31m#best_params[\"n_estimators\"] = 30\u001b[0m\u001b[0;34m\u001b[0m\u001b[0;34m\u001b[0m\u001b[0m\n\u001b[1;32m     27\u001b[0m \u001b[0;34m\u001b[0m\u001b[0m\n",
      "\u001b[0;32m/home/etiavlovsky/CRG/scripts/ML_pipelines.py\u001b[0m in \u001b[0;36mgrid_search\u001b[0;34m(clf, X, y, parameters, cv)\u001b[0m\n\u001b[1;32m     61\u001b[0m \u001b[0;34m\u001b[0m\u001b[0m\n\u001b[1;32m     62\u001b[0m     \u001b[0;32mprint\u001b[0m \u001b[0;34m\"\\n\\t Performing parameter grid search...\"\u001b[0m\u001b[0;34m\u001b[0m\u001b[0m\n\u001b[0;32m---> 63\u001b[0;31m     \u001b[0mclf\u001b[0m \u001b[0;34m=\u001b[0m \u001b[0mGridSearchCV\u001b[0m\u001b[0;34m(\u001b[0m\u001b[0mclf\u001b[0m\u001b[0;34m,\u001b[0m \u001b[0mparameters\u001b[0m\u001b[0;34m,\u001b[0m\u001b[0mcv\u001b[0m \u001b[0;34m=\u001b[0m \u001b[0mcv\u001b[0m\u001b[0;34m)\u001b[0m\u001b[0;34m\u001b[0m\u001b[0m\n\u001b[0m\u001b[1;32m     64\u001b[0m     \u001b[0mclf\u001b[0m\u001b[0;34m.\u001b[0m\u001b[0mfit\u001b[0m\u001b[0;34m(\u001b[0m\u001b[0mX\u001b[0m\u001b[0;34m,\u001b[0m\u001b[0my\u001b[0m\u001b[0;34m)\u001b[0m\u001b[0;34m\u001b[0m\u001b[0m\n\u001b[1;32m     65\u001b[0m     \u001b[0;32mprint\u001b[0m \u001b[0;34m\"\\tBest parameters:\"\u001b[0m\u001b[0;34m,\u001b[0m\u001b[0mclf\u001b[0m\u001b[0;34m.\u001b[0m\u001b[0mbest_params_\u001b[0m\u001b[0;34m\u001b[0m\u001b[0m\n",
      "\u001b[0;32m/home/etiavlovsky/anaconda2/lib/python2.7/site-packages/sklearn/model_selection/_search.pyc\u001b[0m in \u001b[0;36mfit\u001b[0;34m(self, X, y, groups)\u001b[0m\n\u001b[1;32m    943\u001b[0m             \u001b[0mtrain\u001b[0m\u001b[0;34m/\u001b[0m\u001b[0mtest\u001b[0m \u001b[0mset\u001b[0m\u001b[0;34m.\u001b[0m\u001b[0;34m\u001b[0m\u001b[0m\n\u001b[1;32m    944\u001b[0m         \"\"\"\n\u001b[0;32m--> 945\u001b[0;31m         \u001b[0;32mreturn\u001b[0m \u001b[0mself\u001b[0m\u001b[0;34m.\u001b[0m\u001b[0m_fit\u001b[0m\u001b[0;34m(\u001b[0m\u001b[0mX\u001b[0m\u001b[0;34m,\u001b[0m \u001b[0my\u001b[0m\u001b[0;34m,\u001b[0m \u001b[0mgroups\u001b[0m\u001b[0;34m,\u001b[0m \u001b[0mParameterGrid\u001b[0m\u001b[0;34m(\u001b[0m\u001b[0mself\u001b[0m\u001b[0;34m.\u001b[0m\u001b[0mparam_grid\u001b[0m\u001b[0;34m)\u001b[0m\u001b[0;34m)\u001b[0m\u001b[0;34m\u001b[0m\u001b[0m\n\u001b[0m\u001b[1;32m    946\u001b[0m \u001b[0;34m\u001b[0m\u001b[0m\n\u001b[1;32m    947\u001b[0m \u001b[0;34m\u001b[0m\u001b[0m\n",
      "\u001b[0;32m/home/etiavlovsky/anaconda2/lib/python2.7/site-packages/sklearn/model_selection/_search.pyc\u001b[0m in \u001b[0;36m_fit\u001b[0;34m(self, X, y, groups, parameter_iterable)\u001b[0m\n\u001b[1;32m    562\u001b[0m                                   \u001b[0mreturn_times\u001b[0m\u001b[0;34m=\u001b[0m\u001b[0mTrue\u001b[0m\u001b[0;34m,\u001b[0m \u001b[0mreturn_parameters\u001b[0m\u001b[0;34m=\u001b[0m\u001b[0mTrue\u001b[0m\u001b[0;34m,\u001b[0m\u001b[0;34m\u001b[0m\u001b[0m\n\u001b[1;32m    563\u001b[0m                                   error_score=self.error_score)\n\u001b[0;32m--> 564\u001b[0;31m           \u001b[0;32mfor\u001b[0m \u001b[0mparameters\u001b[0m \u001b[0;32min\u001b[0m \u001b[0mparameter_iterable\u001b[0m\u001b[0;34m\u001b[0m\u001b[0m\n\u001b[0m\u001b[1;32m    565\u001b[0m           for train, test in cv_iter)\n\u001b[1;32m    566\u001b[0m \u001b[0;34m\u001b[0m\u001b[0m\n",
      "\u001b[0;32m/home/etiavlovsky/anaconda2/lib/python2.7/site-packages/sklearn/externals/joblib/parallel.pyc\u001b[0m in \u001b[0;36m__call__\u001b[0;34m(self, iterable)\u001b[0m\n\u001b[1;32m    756\u001b[0m             \u001b[0;31m# was dispatched. In particular this covers the edge\u001b[0m\u001b[0;34m\u001b[0m\u001b[0;34m\u001b[0m\u001b[0m\n\u001b[1;32m    757\u001b[0m             \u001b[0;31m# case of Parallel used with an exhausted iterator.\u001b[0m\u001b[0;34m\u001b[0m\u001b[0;34m\u001b[0m\u001b[0m\n\u001b[0;32m--> 758\u001b[0;31m             \u001b[0;32mwhile\u001b[0m \u001b[0mself\u001b[0m\u001b[0;34m.\u001b[0m\u001b[0mdispatch_one_batch\u001b[0m\u001b[0;34m(\u001b[0m\u001b[0miterator\u001b[0m\u001b[0;34m)\u001b[0m\u001b[0;34m:\u001b[0m\u001b[0;34m\u001b[0m\u001b[0m\n\u001b[0m\u001b[1;32m    759\u001b[0m                 \u001b[0mself\u001b[0m\u001b[0;34m.\u001b[0m\u001b[0m_iterating\u001b[0m \u001b[0;34m=\u001b[0m \u001b[0mTrue\u001b[0m\u001b[0;34m\u001b[0m\u001b[0m\n\u001b[1;32m    760\u001b[0m             \u001b[0;32melse\u001b[0m\u001b[0;34m:\u001b[0m\u001b[0;34m\u001b[0m\u001b[0m\n",
      "\u001b[0;32m/home/etiavlovsky/anaconda2/lib/python2.7/site-packages/sklearn/externals/joblib/parallel.pyc\u001b[0m in \u001b[0;36mdispatch_one_batch\u001b[0;34m(self, iterator)\u001b[0m\n\u001b[1;32m    606\u001b[0m                 \u001b[0;32mreturn\u001b[0m \u001b[0mFalse\u001b[0m\u001b[0;34m\u001b[0m\u001b[0m\n\u001b[1;32m    607\u001b[0m             \u001b[0;32melse\u001b[0m\u001b[0;34m:\u001b[0m\u001b[0;34m\u001b[0m\u001b[0m\n\u001b[0;32m--> 608\u001b[0;31m                 \u001b[0mself\u001b[0m\u001b[0;34m.\u001b[0m\u001b[0m_dispatch\u001b[0m\u001b[0;34m(\u001b[0m\u001b[0mtasks\u001b[0m\u001b[0;34m)\u001b[0m\u001b[0;34m\u001b[0m\u001b[0m\n\u001b[0m\u001b[1;32m    609\u001b[0m                 \u001b[0;32mreturn\u001b[0m \u001b[0mTrue\u001b[0m\u001b[0;34m\u001b[0m\u001b[0m\n\u001b[1;32m    610\u001b[0m \u001b[0;34m\u001b[0m\u001b[0m\n",
      "\u001b[0;32m/home/etiavlovsky/anaconda2/lib/python2.7/site-packages/sklearn/externals/joblib/parallel.pyc\u001b[0m in \u001b[0;36m_dispatch\u001b[0;34m(self, batch)\u001b[0m\n\u001b[1;32m    569\u001b[0m         \u001b[0mdispatch_timestamp\u001b[0m \u001b[0;34m=\u001b[0m \u001b[0mtime\u001b[0m\u001b[0;34m.\u001b[0m\u001b[0mtime\u001b[0m\u001b[0;34m(\u001b[0m\u001b[0;34m)\u001b[0m\u001b[0;34m\u001b[0m\u001b[0m\n\u001b[1;32m    570\u001b[0m         \u001b[0mcb\u001b[0m \u001b[0;34m=\u001b[0m \u001b[0mBatchCompletionCallBack\u001b[0m\u001b[0;34m(\u001b[0m\u001b[0mdispatch_timestamp\u001b[0m\u001b[0;34m,\u001b[0m \u001b[0mlen\u001b[0m\u001b[0;34m(\u001b[0m\u001b[0mbatch\u001b[0m\u001b[0;34m)\u001b[0m\u001b[0;34m,\u001b[0m \u001b[0mself\u001b[0m\u001b[0;34m)\u001b[0m\u001b[0;34m\u001b[0m\u001b[0m\n\u001b[0;32m--> 571\u001b[0;31m         \u001b[0mjob\u001b[0m \u001b[0;34m=\u001b[0m \u001b[0mself\u001b[0m\u001b[0;34m.\u001b[0m\u001b[0m_backend\u001b[0m\u001b[0;34m.\u001b[0m\u001b[0mapply_async\u001b[0m\u001b[0;34m(\u001b[0m\u001b[0mbatch\u001b[0m\u001b[0;34m,\u001b[0m \u001b[0mcallback\u001b[0m\u001b[0;34m=\u001b[0m\u001b[0mcb\u001b[0m\u001b[0;34m)\u001b[0m\u001b[0;34m\u001b[0m\u001b[0m\n\u001b[0m\u001b[1;32m    572\u001b[0m         \u001b[0mself\u001b[0m\u001b[0;34m.\u001b[0m\u001b[0m_jobs\u001b[0m\u001b[0;34m.\u001b[0m\u001b[0mappend\u001b[0m\u001b[0;34m(\u001b[0m\u001b[0mjob\u001b[0m\u001b[0;34m)\u001b[0m\u001b[0;34m\u001b[0m\u001b[0m\n\u001b[1;32m    573\u001b[0m \u001b[0;34m\u001b[0m\u001b[0m\n",
      "\u001b[0;32m/home/etiavlovsky/anaconda2/lib/python2.7/site-packages/sklearn/externals/joblib/_parallel_backends.pyc\u001b[0m in \u001b[0;36mapply_async\u001b[0;34m(self, func, callback)\u001b[0m\n\u001b[1;32m    107\u001b[0m     \u001b[0;32mdef\u001b[0m \u001b[0mapply_async\u001b[0m\u001b[0;34m(\u001b[0m\u001b[0mself\u001b[0m\u001b[0;34m,\u001b[0m \u001b[0mfunc\u001b[0m\u001b[0;34m,\u001b[0m \u001b[0mcallback\u001b[0m\u001b[0;34m=\u001b[0m\u001b[0mNone\u001b[0m\u001b[0;34m)\u001b[0m\u001b[0;34m:\u001b[0m\u001b[0;34m\u001b[0m\u001b[0m\n\u001b[1;32m    108\u001b[0m         \u001b[0;34m\"\"\"Schedule a func to be run\"\"\"\u001b[0m\u001b[0;34m\u001b[0m\u001b[0m\n\u001b[0;32m--> 109\u001b[0;31m         \u001b[0mresult\u001b[0m \u001b[0;34m=\u001b[0m \u001b[0mImmediateResult\u001b[0m\u001b[0;34m(\u001b[0m\u001b[0mfunc\u001b[0m\u001b[0;34m)\u001b[0m\u001b[0;34m\u001b[0m\u001b[0m\n\u001b[0m\u001b[1;32m    110\u001b[0m         \u001b[0;32mif\u001b[0m \u001b[0mcallback\u001b[0m\u001b[0;34m:\u001b[0m\u001b[0;34m\u001b[0m\u001b[0m\n\u001b[1;32m    111\u001b[0m             \u001b[0mcallback\u001b[0m\u001b[0;34m(\u001b[0m\u001b[0mresult\u001b[0m\u001b[0;34m)\u001b[0m\u001b[0;34m\u001b[0m\u001b[0m\n",
      "\u001b[0;32m/home/etiavlovsky/anaconda2/lib/python2.7/site-packages/sklearn/externals/joblib/_parallel_backends.pyc\u001b[0m in \u001b[0;36m__init__\u001b[0;34m(self, batch)\u001b[0m\n\u001b[1;32m    324\u001b[0m         \u001b[0;31m# Don't delay the application, to avoid keeping the input\u001b[0m\u001b[0;34m\u001b[0m\u001b[0;34m\u001b[0m\u001b[0m\n\u001b[1;32m    325\u001b[0m         \u001b[0;31m# arguments in memory\u001b[0m\u001b[0;34m\u001b[0m\u001b[0;34m\u001b[0m\u001b[0m\n\u001b[0;32m--> 326\u001b[0;31m         \u001b[0mself\u001b[0m\u001b[0;34m.\u001b[0m\u001b[0mresults\u001b[0m \u001b[0;34m=\u001b[0m \u001b[0mbatch\u001b[0m\u001b[0;34m(\u001b[0m\u001b[0;34m)\u001b[0m\u001b[0;34m\u001b[0m\u001b[0m\n\u001b[0m\u001b[1;32m    327\u001b[0m \u001b[0;34m\u001b[0m\u001b[0m\n\u001b[1;32m    328\u001b[0m     \u001b[0;32mdef\u001b[0m \u001b[0mget\u001b[0m\u001b[0;34m(\u001b[0m\u001b[0mself\u001b[0m\u001b[0;34m)\u001b[0m\u001b[0;34m:\u001b[0m\u001b[0;34m\u001b[0m\u001b[0m\n",
      "\u001b[0;32m/home/etiavlovsky/anaconda2/lib/python2.7/site-packages/sklearn/externals/joblib/parallel.pyc\u001b[0m in \u001b[0;36m__call__\u001b[0;34m(self)\u001b[0m\n\u001b[1;32m    129\u001b[0m \u001b[0;34m\u001b[0m\u001b[0m\n\u001b[1;32m    130\u001b[0m     \u001b[0;32mdef\u001b[0m \u001b[0m__call__\u001b[0m\u001b[0;34m(\u001b[0m\u001b[0mself\u001b[0m\u001b[0;34m)\u001b[0m\u001b[0;34m:\u001b[0m\u001b[0;34m\u001b[0m\u001b[0m\n\u001b[0;32m--> 131\u001b[0;31m         \u001b[0;32mreturn\u001b[0m \u001b[0;34m[\u001b[0m\u001b[0mfunc\u001b[0m\u001b[0;34m(\u001b[0m\u001b[0;34m*\u001b[0m\u001b[0margs\u001b[0m\u001b[0;34m,\u001b[0m \u001b[0;34m**\u001b[0m\u001b[0mkwargs\u001b[0m\u001b[0;34m)\u001b[0m \u001b[0;32mfor\u001b[0m \u001b[0mfunc\u001b[0m\u001b[0;34m,\u001b[0m \u001b[0margs\u001b[0m\u001b[0;34m,\u001b[0m \u001b[0mkwargs\u001b[0m \u001b[0;32min\u001b[0m \u001b[0mself\u001b[0m\u001b[0;34m.\u001b[0m\u001b[0mitems\u001b[0m\u001b[0;34m]\u001b[0m\u001b[0;34m\u001b[0m\u001b[0m\n\u001b[0m\u001b[1;32m    132\u001b[0m \u001b[0;34m\u001b[0m\u001b[0m\n\u001b[1;32m    133\u001b[0m     \u001b[0;32mdef\u001b[0m \u001b[0m__len__\u001b[0m\u001b[0;34m(\u001b[0m\u001b[0mself\u001b[0m\u001b[0;34m)\u001b[0m\u001b[0;34m:\u001b[0m\u001b[0;34m\u001b[0m\u001b[0m\n",
      "\u001b[0;32m/home/etiavlovsky/anaconda2/lib/python2.7/site-packages/sklearn/model_selection/_validation.pyc\u001b[0m in \u001b[0;36m_fit_and_score\u001b[0;34m(estimator, X, y, scorer, train, test, verbose, parameters, fit_params, return_train_score, return_parameters, return_n_test_samples, return_times, error_score)\u001b[0m\n\u001b[1;32m    236\u001b[0m             \u001b[0mestimator\u001b[0m\u001b[0;34m.\u001b[0m\u001b[0mfit\u001b[0m\u001b[0;34m(\u001b[0m\u001b[0mX_train\u001b[0m\u001b[0;34m,\u001b[0m \u001b[0;34m**\u001b[0m\u001b[0mfit_params\u001b[0m\u001b[0;34m)\u001b[0m\u001b[0;34m\u001b[0m\u001b[0m\n\u001b[1;32m    237\u001b[0m         \u001b[0;32melse\u001b[0m\u001b[0;34m:\u001b[0m\u001b[0;34m\u001b[0m\u001b[0m\n\u001b[0;32m--> 238\u001b[0;31m             \u001b[0mestimator\u001b[0m\u001b[0;34m.\u001b[0m\u001b[0mfit\u001b[0m\u001b[0;34m(\u001b[0m\u001b[0mX_train\u001b[0m\u001b[0;34m,\u001b[0m \u001b[0my_train\u001b[0m\u001b[0;34m,\u001b[0m \u001b[0;34m**\u001b[0m\u001b[0mfit_params\u001b[0m\u001b[0;34m)\u001b[0m\u001b[0;34m\u001b[0m\u001b[0m\n\u001b[0m\u001b[1;32m    239\u001b[0m \u001b[0;34m\u001b[0m\u001b[0m\n\u001b[1;32m    240\u001b[0m     \u001b[0;32mexcept\u001b[0m \u001b[0mException\u001b[0m \u001b[0;32mas\u001b[0m \u001b[0me\u001b[0m\u001b[0;34m:\u001b[0m\u001b[0;34m\u001b[0m\u001b[0m\n",
      "\u001b[0;32m/home/etiavlovsky/anaconda2/lib/python2.7/site-packages/sklearn/ensemble/forest.pyc\u001b[0m in \u001b[0;36mfit\u001b[0;34m(self, X, y, sample_weight)\u001b[0m\n\u001b[1;32m    324\u001b[0m                     \u001b[0mt\u001b[0m\u001b[0;34m,\u001b[0m \u001b[0mself\u001b[0m\u001b[0;34m,\u001b[0m \u001b[0mX\u001b[0m\u001b[0;34m,\u001b[0m \u001b[0my\u001b[0m\u001b[0;34m,\u001b[0m \u001b[0msample_weight\u001b[0m\u001b[0;34m,\u001b[0m \u001b[0mi\u001b[0m\u001b[0;34m,\u001b[0m \u001b[0mlen\u001b[0m\u001b[0;34m(\u001b[0m\u001b[0mtrees\u001b[0m\u001b[0;34m)\u001b[0m\u001b[0;34m,\u001b[0m\u001b[0;34m\u001b[0m\u001b[0m\n\u001b[1;32m    325\u001b[0m                     verbose=self.verbose, class_weight=self.class_weight)\n\u001b[0;32m--> 326\u001b[0;31m                 for i, t in enumerate(trees))\n\u001b[0m\u001b[1;32m    327\u001b[0m \u001b[0;34m\u001b[0m\u001b[0m\n\u001b[1;32m    328\u001b[0m             \u001b[0;31m# Collect newly grown trees\u001b[0m\u001b[0;34m\u001b[0m\u001b[0;34m\u001b[0m\u001b[0m\n",
      "\u001b[0;32m/home/etiavlovsky/anaconda2/lib/python2.7/site-packages/sklearn/externals/joblib/parallel.pyc\u001b[0m in \u001b[0;36m__call__\u001b[0;34m(self, iterable)\u001b[0m\n\u001b[1;32m    756\u001b[0m             \u001b[0;31m# was dispatched. In particular this covers the edge\u001b[0m\u001b[0;34m\u001b[0m\u001b[0;34m\u001b[0m\u001b[0m\n\u001b[1;32m    757\u001b[0m             \u001b[0;31m# case of Parallel used with an exhausted iterator.\u001b[0m\u001b[0;34m\u001b[0m\u001b[0;34m\u001b[0m\u001b[0m\n\u001b[0;32m--> 758\u001b[0;31m             \u001b[0;32mwhile\u001b[0m \u001b[0mself\u001b[0m\u001b[0;34m.\u001b[0m\u001b[0mdispatch_one_batch\u001b[0m\u001b[0;34m(\u001b[0m\u001b[0miterator\u001b[0m\u001b[0;34m)\u001b[0m\u001b[0;34m:\u001b[0m\u001b[0;34m\u001b[0m\u001b[0m\n\u001b[0m\u001b[1;32m    759\u001b[0m                 \u001b[0mself\u001b[0m\u001b[0;34m.\u001b[0m\u001b[0m_iterating\u001b[0m \u001b[0;34m=\u001b[0m \u001b[0mTrue\u001b[0m\u001b[0;34m\u001b[0m\u001b[0m\n\u001b[1;32m    760\u001b[0m             \u001b[0;32melse\u001b[0m\u001b[0;34m:\u001b[0m\u001b[0;34m\u001b[0m\u001b[0m\n",
      "\u001b[0;32m/home/etiavlovsky/anaconda2/lib/python2.7/site-packages/sklearn/externals/joblib/parallel.pyc\u001b[0m in \u001b[0;36mdispatch_one_batch\u001b[0;34m(self, iterator)\u001b[0m\n\u001b[1;32m    606\u001b[0m                 \u001b[0;32mreturn\u001b[0m \u001b[0mFalse\u001b[0m\u001b[0;34m\u001b[0m\u001b[0m\n\u001b[1;32m    607\u001b[0m             \u001b[0;32melse\u001b[0m\u001b[0;34m:\u001b[0m\u001b[0;34m\u001b[0m\u001b[0m\n\u001b[0;32m--> 608\u001b[0;31m                 \u001b[0mself\u001b[0m\u001b[0;34m.\u001b[0m\u001b[0m_dispatch\u001b[0m\u001b[0;34m(\u001b[0m\u001b[0mtasks\u001b[0m\u001b[0;34m)\u001b[0m\u001b[0;34m\u001b[0m\u001b[0m\n\u001b[0m\u001b[1;32m    609\u001b[0m                 \u001b[0;32mreturn\u001b[0m \u001b[0mTrue\u001b[0m\u001b[0;34m\u001b[0m\u001b[0m\n\u001b[1;32m    610\u001b[0m \u001b[0;34m\u001b[0m\u001b[0m\n",
      "\u001b[0;32m/home/etiavlovsky/anaconda2/lib/python2.7/site-packages/sklearn/externals/joblib/parallel.pyc\u001b[0m in \u001b[0;36m_dispatch\u001b[0;34m(self, batch)\u001b[0m\n\u001b[1;32m    569\u001b[0m         \u001b[0mdispatch_timestamp\u001b[0m \u001b[0;34m=\u001b[0m \u001b[0mtime\u001b[0m\u001b[0;34m.\u001b[0m\u001b[0mtime\u001b[0m\u001b[0;34m(\u001b[0m\u001b[0;34m)\u001b[0m\u001b[0;34m\u001b[0m\u001b[0m\n\u001b[1;32m    570\u001b[0m         \u001b[0mcb\u001b[0m \u001b[0;34m=\u001b[0m \u001b[0mBatchCompletionCallBack\u001b[0m\u001b[0;34m(\u001b[0m\u001b[0mdispatch_timestamp\u001b[0m\u001b[0;34m,\u001b[0m \u001b[0mlen\u001b[0m\u001b[0;34m(\u001b[0m\u001b[0mbatch\u001b[0m\u001b[0;34m)\u001b[0m\u001b[0;34m,\u001b[0m \u001b[0mself\u001b[0m\u001b[0;34m)\u001b[0m\u001b[0;34m\u001b[0m\u001b[0m\n\u001b[0;32m--> 571\u001b[0;31m         \u001b[0mjob\u001b[0m \u001b[0;34m=\u001b[0m \u001b[0mself\u001b[0m\u001b[0;34m.\u001b[0m\u001b[0m_backend\u001b[0m\u001b[0;34m.\u001b[0m\u001b[0mapply_async\u001b[0m\u001b[0;34m(\u001b[0m\u001b[0mbatch\u001b[0m\u001b[0;34m,\u001b[0m \u001b[0mcallback\u001b[0m\u001b[0;34m=\u001b[0m\u001b[0mcb\u001b[0m\u001b[0;34m)\u001b[0m\u001b[0;34m\u001b[0m\u001b[0m\n\u001b[0m\u001b[1;32m    572\u001b[0m         \u001b[0mself\u001b[0m\u001b[0;34m.\u001b[0m\u001b[0m_jobs\u001b[0m\u001b[0;34m.\u001b[0m\u001b[0mappend\u001b[0m\u001b[0;34m(\u001b[0m\u001b[0mjob\u001b[0m\u001b[0;34m)\u001b[0m\u001b[0;34m\u001b[0m\u001b[0m\n\u001b[1;32m    573\u001b[0m \u001b[0;34m\u001b[0m\u001b[0m\n",
      "\u001b[0;32m/home/etiavlovsky/anaconda2/lib/python2.7/site-packages/sklearn/externals/joblib/_parallel_backends.pyc\u001b[0m in \u001b[0;36mapply_async\u001b[0;34m(self, func, callback)\u001b[0m\n\u001b[1;32m    107\u001b[0m     \u001b[0;32mdef\u001b[0m \u001b[0mapply_async\u001b[0m\u001b[0;34m(\u001b[0m\u001b[0mself\u001b[0m\u001b[0;34m,\u001b[0m \u001b[0mfunc\u001b[0m\u001b[0;34m,\u001b[0m \u001b[0mcallback\u001b[0m\u001b[0;34m=\u001b[0m\u001b[0mNone\u001b[0m\u001b[0;34m)\u001b[0m\u001b[0;34m:\u001b[0m\u001b[0;34m\u001b[0m\u001b[0m\n\u001b[1;32m    108\u001b[0m         \u001b[0;34m\"\"\"Schedule a func to be run\"\"\"\u001b[0m\u001b[0;34m\u001b[0m\u001b[0m\n\u001b[0;32m--> 109\u001b[0;31m         \u001b[0mresult\u001b[0m \u001b[0;34m=\u001b[0m \u001b[0mImmediateResult\u001b[0m\u001b[0;34m(\u001b[0m\u001b[0mfunc\u001b[0m\u001b[0;34m)\u001b[0m\u001b[0;34m\u001b[0m\u001b[0m\n\u001b[0m\u001b[1;32m    110\u001b[0m         \u001b[0;32mif\u001b[0m \u001b[0mcallback\u001b[0m\u001b[0;34m:\u001b[0m\u001b[0;34m\u001b[0m\u001b[0m\n\u001b[1;32m    111\u001b[0m             \u001b[0mcallback\u001b[0m\u001b[0;34m(\u001b[0m\u001b[0mresult\u001b[0m\u001b[0;34m)\u001b[0m\u001b[0;34m\u001b[0m\u001b[0m\n",
      "\u001b[0;32m/home/etiavlovsky/anaconda2/lib/python2.7/site-packages/sklearn/externals/joblib/_parallel_backends.pyc\u001b[0m in \u001b[0;36m__init__\u001b[0;34m(self, batch)\u001b[0m\n\u001b[1;32m    324\u001b[0m         \u001b[0;31m# Don't delay the application, to avoid keeping the input\u001b[0m\u001b[0;34m\u001b[0m\u001b[0;34m\u001b[0m\u001b[0m\n\u001b[1;32m    325\u001b[0m         \u001b[0;31m# arguments in memory\u001b[0m\u001b[0;34m\u001b[0m\u001b[0;34m\u001b[0m\u001b[0m\n\u001b[0;32m--> 326\u001b[0;31m         \u001b[0mself\u001b[0m\u001b[0;34m.\u001b[0m\u001b[0mresults\u001b[0m \u001b[0;34m=\u001b[0m \u001b[0mbatch\u001b[0m\u001b[0;34m(\u001b[0m\u001b[0;34m)\u001b[0m\u001b[0;34m\u001b[0m\u001b[0m\n\u001b[0m\u001b[1;32m    327\u001b[0m \u001b[0;34m\u001b[0m\u001b[0m\n\u001b[1;32m    328\u001b[0m     \u001b[0;32mdef\u001b[0m \u001b[0mget\u001b[0m\u001b[0;34m(\u001b[0m\u001b[0mself\u001b[0m\u001b[0;34m)\u001b[0m\u001b[0;34m:\u001b[0m\u001b[0;34m\u001b[0m\u001b[0m\n",
      "\u001b[0;32m/home/etiavlovsky/anaconda2/lib/python2.7/site-packages/sklearn/externals/joblib/parallel.pyc\u001b[0m in \u001b[0;36m__call__\u001b[0;34m(self)\u001b[0m\n\u001b[1;32m    129\u001b[0m \u001b[0;34m\u001b[0m\u001b[0m\n\u001b[1;32m    130\u001b[0m     \u001b[0;32mdef\u001b[0m \u001b[0m__call__\u001b[0m\u001b[0;34m(\u001b[0m\u001b[0mself\u001b[0m\u001b[0;34m)\u001b[0m\u001b[0;34m:\u001b[0m\u001b[0;34m\u001b[0m\u001b[0m\n\u001b[0;32m--> 131\u001b[0;31m         \u001b[0;32mreturn\u001b[0m \u001b[0;34m[\u001b[0m\u001b[0mfunc\u001b[0m\u001b[0;34m(\u001b[0m\u001b[0;34m*\u001b[0m\u001b[0margs\u001b[0m\u001b[0;34m,\u001b[0m \u001b[0;34m**\u001b[0m\u001b[0mkwargs\u001b[0m\u001b[0;34m)\u001b[0m \u001b[0;32mfor\u001b[0m \u001b[0mfunc\u001b[0m\u001b[0;34m,\u001b[0m \u001b[0margs\u001b[0m\u001b[0;34m,\u001b[0m \u001b[0mkwargs\u001b[0m \u001b[0;32min\u001b[0m \u001b[0mself\u001b[0m\u001b[0;34m.\u001b[0m\u001b[0mitems\u001b[0m\u001b[0;34m]\u001b[0m\u001b[0;34m\u001b[0m\u001b[0m\n\u001b[0m\u001b[1;32m    132\u001b[0m \u001b[0;34m\u001b[0m\u001b[0m\n\u001b[1;32m    133\u001b[0m     \u001b[0;32mdef\u001b[0m \u001b[0m__len__\u001b[0m\u001b[0;34m(\u001b[0m\u001b[0mself\u001b[0m\u001b[0;34m)\u001b[0m\u001b[0;34m:\u001b[0m\u001b[0;34m\u001b[0m\u001b[0m\n",
      "\u001b[0;32m/home/etiavlovsky/anaconda2/lib/python2.7/site-packages/sklearn/ensemble/forest.pyc\u001b[0m in \u001b[0;36m_parallel_build_trees\u001b[0;34m(tree, forest, X, y, sample_weight, tree_idx, n_trees, verbose, class_weight)\u001b[0m\n\u001b[1;32m    118\u001b[0m             \u001b[0mcurr_sample_weight\u001b[0m \u001b[0;34m*=\u001b[0m \u001b[0mcompute_sample_weight\u001b[0m\u001b[0;34m(\u001b[0m\u001b[0;34m'balanced'\u001b[0m\u001b[0;34m,\u001b[0m \u001b[0my\u001b[0m\u001b[0;34m,\u001b[0m \u001b[0mindices\u001b[0m\u001b[0;34m)\u001b[0m\u001b[0;34m\u001b[0m\u001b[0m\n\u001b[1;32m    119\u001b[0m \u001b[0;34m\u001b[0m\u001b[0m\n\u001b[0;32m--> 120\u001b[0;31m         \u001b[0mtree\u001b[0m\u001b[0;34m.\u001b[0m\u001b[0mfit\u001b[0m\u001b[0;34m(\u001b[0m\u001b[0mX\u001b[0m\u001b[0;34m,\u001b[0m \u001b[0my\u001b[0m\u001b[0;34m,\u001b[0m \u001b[0msample_weight\u001b[0m\u001b[0;34m=\u001b[0m\u001b[0mcurr_sample_weight\u001b[0m\u001b[0;34m,\u001b[0m \u001b[0mcheck_input\u001b[0m\u001b[0;34m=\u001b[0m\u001b[0mFalse\u001b[0m\u001b[0;34m)\u001b[0m\u001b[0;34m\u001b[0m\u001b[0m\n\u001b[0m\u001b[1;32m    121\u001b[0m     \u001b[0;32melse\u001b[0m\u001b[0;34m:\u001b[0m\u001b[0;34m\u001b[0m\u001b[0m\n\u001b[1;32m    122\u001b[0m         \u001b[0mtree\u001b[0m\u001b[0;34m.\u001b[0m\u001b[0mfit\u001b[0m\u001b[0;34m(\u001b[0m\u001b[0mX\u001b[0m\u001b[0;34m,\u001b[0m \u001b[0my\u001b[0m\u001b[0;34m,\u001b[0m \u001b[0msample_weight\u001b[0m\u001b[0;34m=\u001b[0m\u001b[0msample_weight\u001b[0m\u001b[0;34m,\u001b[0m \u001b[0mcheck_input\u001b[0m\u001b[0;34m=\u001b[0m\u001b[0mFalse\u001b[0m\u001b[0;34m)\u001b[0m\u001b[0;34m\u001b[0m\u001b[0m\n",
      "\u001b[0;32m/home/etiavlovsky/anaconda2/lib/python2.7/site-packages/sklearn/tree/tree.pyc\u001b[0m in \u001b[0;36mfit\u001b[0;34m(self, X, y, sample_weight, check_input, X_idx_sorted)\u001b[0m\n\u001b[1;32m    737\u001b[0m             \u001b[0msample_weight\u001b[0m\u001b[0;34m=\u001b[0m\u001b[0msample_weight\u001b[0m\u001b[0;34m,\u001b[0m\u001b[0;34m\u001b[0m\u001b[0m\n\u001b[1;32m    738\u001b[0m             \u001b[0mcheck_input\u001b[0m\u001b[0;34m=\u001b[0m\u001b[0mcheck_input\u001b[0m\u001b[0;34m,\u001b[0m\u001b[0;34m\u001b[0m\u001b[0m\n\u001b[0;32m--> 739\u001b[0;31m             X_idx_sorted=X_idx_sorted)\n\u001b[0m\u001b[1;32m    740\u001b[0m         \u001b[0;32mreturn\u001b[0m \u001b[0mself\u001b[0m\u001b[0;34m\u001b[0m\u001b[0m\n\u001b[1;32m    741\u001b[0m \u001b[0;34m\u001b[0m\u001b[0m\n",
      "\u001b[0;32m/home/etiavlovsky/anaconda2/lib/python2.7/site-packages/sklearn/tree/tree.pyc\u001b[0m in \u001b[0;36mfit\u001b[0;34m(self, X, y, sample_weight, check_input, X_idx_sorted)\u001b[0m\n\u001b[1;32m    348\u001b[0m                                            self.min_impurity_split)\n\u001b[1;32m    349\u001b[0m \u001b[0;34m\u001b[0m\u001b[0m\n\u001b[0;32m--> 350\u001b[0;31m         \u001b[0mbuilder\u001b[0m\u001b[0;34m.\u001b[0m\u001b[0mbuild\u001b[0m\u001b[0;34m(\u001b[0m\u001b[0mself\u001b[0m\u001b[0;34m.\u001b[0m\u001b[0mtree_\u001b[0m\u001b[0;34m,\u001b[0m \u001b[0mX\u001b[0m\u001b[0;34m,\u001b[0m \u001b[0my\u001b[0m\u001b[0;34m,\u001b[0m \u001b[0msample_weight\u001b[0m\u001b[0;34m,\u001b[0m \u001b[0mX_idx_sorted\u001b[0m\u001b[0;34m)\u001b[0m\u001b[0;34m\u001b[0m\u001b[0m\n\u001b[0m\u001b[1;32m    351\u001b[0m \u001b[0;34m\u001b[0m\u001b[0m\n\u001b[1;32m    352\u001b[0m         \u001b[0;32mif\u001b[0m \u001b[0mself\u001b[0m\u001b[0;34m.\u001b[0m\u001b[0mn_outputs_\u001b[0m \u001b[0;34m==\u001b[0m \u001b[0;36m1\u001b[0m\u001b[0;34m:\u001b[0m\u001b[0;34m\u001b[0m\u001b[0m\n",
      "\u001b[0;31mKeyboardInterrupt\u001b[0m: "
     ]
    }
   ],
   "source": [
    "%run scripts/ML_pipelines.py\n",
    "run_ML(ML_inputs,n_estimators = 30)"
   ]
  },
  {
   "cell_type": "code",
   "execution_count": 146,
   "metadata": {
    "collapsed": false
   },
   "outputs": [
    {
     "data": {
      "text/plain": [
       "{'CBP_GSE17954': 'distance from closest CBP_GSE17954 mark',\n",
       " 'CDK12_GSE72023': 'distance from closest CDK12_GSE72023 mark',\n",
       " 'CDK7_GSE50622': 'distance from closest CDK7_GSE50622 mark',\n",
       " 'CDK7_GSE60027': 'distance from closest CDK7_GSE60027 mark',\n",
       " 'CTCF_GSE12889': 'distance from closest CTCF_GSE12889 mark',\n",
       " 'CTCF_GSE68976': 'distance from closest CTCF_GSE68976 mark',\n",
       " 'DNA': 'DNA read count',\n",
       " 'ERG_GSE49091': 'distance from closest ERG_GSE49091 mark',\n",
       " 'ETS1_GSE17954': 'distance from closest ETS1_GSE17954 mark',\n",
       " 'GABPA_GSE49091': 'distance from closest GABPA_GSE49091 mark',\n",
       " 'GATA3_GSE29181': 'distance from closest GATA3_GSE29181 mark',\n",
       " 'GATA3_GSE68976': 'distance from closest GATA3_GSE68976 mark',\n",
       " 'GATA3_GSE76181': 'distance from closest GATA3_GSE76181 mark',\n",
       " 'H2AX_GSE25577': 'distance from closest H2AX_GSE25577 mark',\n",
       " 'H3K27ac': 'distance from closest H3K27ac mark',\n",
       " 'H3K27ac_GSE50622': 'distance from closest H3K27ac_GSE50622 mark',\n",
       " 'H3K27ac_GSE51522': 'distance from closest H3K27ac_GSE51522 mark',\n",
       " 'H3K27ac_GSE59257': 'distance from closest H3K27ac_GSE59257 mark',\n",
       " 'H3K27ac_GSE59657': 'distance from closest H3K27ac_GSE59657 mark',\n",
       " 'H3K27ac_GSE65687': 'distance from closest H3K27ac_GSE65687 mark',\n",
       " 'H3K27ac_GSE68976': 'distance from closest H3K27ac_GSE68976 mark',\n",
       " 'H3K27me3_GSE23080': 'distance from closest H3K27me3_GSE23080 mark',\n",
       " 'H3K27me3_GSE59257': 'distance from closest H3K27me3_GSE59257 mark',\n",
       " 'H3K27me3_GSE72300': 'distance from closest H3K27me3_GSE72300 mark',\n",
       " 'H3K36me3': 'distance from closest H3K36me3 mark',\n",
       " 'H3K36me3_GSE65687': 'distance from closest H3K36me3_GSE65687 mark',\n",
       " 'H3K4me1': 'distance from closest H3K4me1 mark',\n",
       " 'H3K4me1_GSE65687': 'distance from closest H3K4me1_GSE65687 mark',\n",
       " 'H3K4me3': 'distance from closest H3K4me3 mark',\n",
       " 'H3K4me3_GSE23080': 'distance from closest H3K4me3_GSE23080 mark',\n",
       " 'H3K4me3_GSE35583': 'distance from closest H3K4me3_GSE35583 mark',\n",
       " 'H3K4me3_GSE60104': 'distance from closest H3K4me3_GSE60104 mark',\n",
       " 'H3K4me3_GSE65687': 'distance from closest H3K4me3_GSE65687 mark',\n",
       " 'H3K79me2_GSE23080': 'distance from closest H3K79me2_GSE23080 mark',\n",
       " 'H3K79me2_GSE60104': 'distance from closest H3K79me2_GSE60104 mark',\n",
       " 'H3K79me3': 'distance from closest H3K79me3 mark',\n",
       " 'H3K79me3_GSE65687': 'distance from closest H3K79me3_GSE65687 mark',\n",
       " 'H3K9me3': 'distance from closest H3K9me3 mark',\n",
       " 'H3K9me3_GSE65687': 'distance from closest H3K9me3_GSE65687 mark',\n",
       " 'KDM2B_GSE70624': 'distance from closest KDM2B_GSE70624 mark',\n",
       " 'LMO1_GSE29181': 'distance from closest LMO1_GSE29181 mark',\n",
       " 'MED1_GSE59657': 'distance from closest MED1_GSE59657 mark',\n",
       " 'MYB_GSE59657': 'distance from closest MYB_GSE59657 mark',\n",
       " 'NRSF_GSE53366': 'distance from closest NRSF_GSE53366 mark',\n",
       " 'PHF6_GSE45864': 'distance from closest PHF6_GSE45864 mark',\n",
       " 'POL2_GSE23080': 'distance from closest POL2_GSE23080 mark',\n",
       " 'POL2_GSE25494': 'distance from closest POL2_GSE25494 mark',\n",
       " 'POL2_GSE47481': 'distance from closest POL2_GSE47481 mark',\n",
       " 'POL2_GSE50622': 'distance from closest POL2_GSE50622 mark',\n",
       " 'POL2_GSE65687': 'distance from closest POL2_GSE65687 mark',\n",
       " 'POL2_GSE72023': 'distance from closest POL2_GSE72023 mark',\n",
       " 'POL3_GSE20309': 'distance from closest POL3_GSE20309 mark',\n",
       " 'RNA': 'RNA read count',\n",
       " 'RUNX1_GSE29181': 'distance from closest RUNX1_GSE29181 mark',\n",
       " 'RUNX1_GSE42575': 'distance from closest RUNX1_GSE42575 mark',\n",
       " 'RUNX1_GSE68976': 'distance from closest RUNX1_GSE68976 mark',\n",
       " 'RUNX1_GSE76181': 'distance from closest RUNX1_GSE76181 mark',\n",
       " 'RUNX_GSE17954': 'distance from closest RUNX_GSE17954 mark',\n",
       " 'S2P_GSE65687': 'distance from closest S2P_GSE65687 mark',\n",
       " 'S5P_GSE65687': 'distance from closest S5P_GSE65687 mark',\n",
       " 'SER2_GSE72023': 'distance from closest SER2_GSE72023 mark',\n",
       " 'TAL1_GSE25000': 'distance from closest TAL1_GSE25000 mark',\n",
       " 'TAL1_GSE29181': 'distance from closest TAL1_GSE29181 mark',\n",
       " 'TCF12_GSE29181': 'distance from closest TCF12_GSE29181 mark',\n",
       " 'TCF3_GSE29181': 'distance from closest TCF3_GSE29181 mark',\n",
       " 'UTX_GSE72300': 'distance from closest UTX_GSE72300 mark',\n",
       " 'brcd': 'HIV barcode',\n",
       " 'cat': 'genome region (AG: active gene, SG: silent gene, AP: active promoter, EN: enhancer, IN: intergenic)',\n",
       " 'chrom': 'integration chromosome',\n",
       " 'd_actgen': 'distance from closest active gene body',\n",
       " 'd_actprom': 'distance from promoter of closest active gene',\n",
       " 'd_acttss': 'distance from closest active gene TSS',\n",
       " 'd_silgen': 'distance from closest silent gene body',\n",
       " 'd_siltss': 'distance from closest silent gene TSS',\n",
       " 'expr': 'expression as mean-centered log10(RNA/DNA)',\n",
       " 'gene_name': 'gene name (NA: not inside a gene)',\n",
       " 'mapq': 'barcode-locus assignment score',\n",
       " 'nread': 'iPCR reads',\n",
       " 'pos': 'integration locus',\n",
       " 'rep': 'biological replicate',\n",
       " 'strand': '+ forward/- reverse'}"
      ]
     },
     "execution_count": 146,
     "metadata": {},
     "output_type": "execute_result"
    }
   ],
   "source": [
    "features"
   ]
  },
  {
   "cell_type": "code",
   "execution_count": 5,
   "metadata": {
    "collapsed": false
   },
   "outputs": [
    {
     "name": "stdout",
     "output_type": "stream",
     "text": [
      "distance from closest H3K9me3_GSE65687 mark\n",
      "barcode-locus assignment score\n"
     ]
    }
   ],
   "source": [
    "print features['H3K9me3_GSE65687']\n",
    "print features['mapq']"
   ]
  },
  {
   "cell_type": "markdown",
   "metadata": {},
   "source": [
    "Reading the train dataset and extracting the feature names"
   ]
  },
  {
   "cell_type": "code",
   "execution_count": 21,
   "metadata": {
    "collapsed": false,
    "scrolled": true
   },
   "outputs": [
    {
     "name": "stdout",
     "output_type": "stream",
     "text": [
      "(11378, 315)\n"
     ]
    },
    {
     "data": {
      "text/html": [
       "<div>\n",
       "<table border=\"1\" class=\"dataframe\">\n",
       "  <thead>\n",
       "    <tr style=\"text-align: right;\">\n",
       "      <th></th>\n",
       "      <th>brcd</th>\n",
       "      <th>chrom</th>\n",
       "      <th>pos</th>\n",
       "      <th>strand</th>\n",
       "      <th>nread</th>\n",
       "      <th>mapq</th>\n",
       "      <th>cat</th>\n",
       "      <th>gene_name</th>\n",
       "      <th>d_actgen</th>\n",
       "      <th>d_acttss</th>\n",
       "      <th>...</th>\n",
       "      <th>TCF12_GSE29181_hb</th>\n",
       "      <th>TCF12_GSE29181_hb_r</th>\n",
       "      <th>TCF3_GSE29181_zb</th>\n",
       "      <th>TCF3_GSE29181_zb_r</th>\n",
       "      <th>TCF3_GSE29181_hb</th>\n",
       "      <th>TCF3_GSE29181_hb_r</th>\n",
       "      <th>UTX_GSE72300_zb</th>\n",
       "      <th>UTX_GSE72300_zb_r</th>\n",
       "      <th>UTX_GSE72300_hb</th>\n",
       "      <th>UTX_GSE72300_hb_r</th>\n",
       "    </tr>\n",
       "  </thead>\n",
       "  <tbody>\n",
       "    <tr>\n",
       "      <th>0</th>\n",
       "      <td>ACATATGATTAGGATT</td>\n",
       "      <td>chr1</td>\n",
       "      <td>721406</td>\n",
       "      <td>-</td>\n",
       "      <td>2539</td>\n",
       "      <td>26</td>\n",
       "      <td>IN</td>\n",
       "      <td>NaN</td>\n",
       "      <td>158177</td>\n",
       "      <td>173282</td>\n",
       "      <td>...</td>\n",
       "      <td>13</td>\n",
       "      <td>0.030374</td>\n",
       "      <td>3</td>\n",
       "      <td>0.007009</td>\n",
       "      <td>1</td>\n",
       "      <td>0.002336</td>\n",
       "      <td>617</td>\n",
       "      <td>1.441589</td>\n",
       "      <td>188</td>\n",
       "      <td>0.439252</td>\n",
       "    </tr>\n",
       "    <tr>\n",
       "      <th>1</th>\n",
       "      <td>CAGGGGATGGCTCGGATGGG</td>\n",
       "      <td>chr1</td>\n",
       "      <td>752311</td>\n",
       "      <td>+</td>\n",
       "      <td>121</td>\n",
       "      <td>13</td>\n",
       "      <td>IN</td>\n",
       "      <td>NaN</td>\n",
       "      <td>127272</td>\n",
       "      <td>142377</td>\n",
       "      <td>...</td>\n",
       "      <td>57</td>\n",
       "      <td>0.046042</td>\n",
       "      <td>4</td>\n",
       "      <td>0.003231</td>\n",
       "      <td>2</td>\n",
       "      <td>0.001616</td>\n",
       "      <td>1554</td>\n",
       "      <td>1.255250</td>\n",
       "      <td>509</td>\n",
       "      <td>0.411147</td>\n",
       "    </tr>\n",
       "    <tr>\n",
       "      <th>2</th>\n",
       "      <td>ATTCGCGGTCTTGTTTG</td>\n",
       "      <td>chr1</td>\n",
       "      <td>761612</td>\n",
       "      <td>+</td>\n",
       "      <td>1988</td>\n",
       "      <td>22</td>\n",
       "      <td>IN</td>\n",
       "      <td>NaN</td>\n",
       "      <td>117971</td>\n",
       "      <td>133076</td>\n",
       "      <td>...</td>\n",
       "      <td>57</td>\n",
       "      <td>0.046042</td>\n",
       "      <td>4</td>\n",
       "      <td>0.003231</td>\n",
       "      <td>2</td>\n",
       "      <td>0.001616</td>\n",
       "      <td>1554</td>\n",
       "      <td>1.255250</td>\n",
       "      <td>509</td>\n",
       "      <td>0.411147</td>\n",
       "    </tr>\n",
       "    <tr>\n",
       "      <th>3</th>\n",
       "      <td>GATGATATTAGTGACTTAAG</td>\n",
       "      <td>chr1</td>\n",
       "      <td>765174</td>\n",
       "      <td>-</td>\n",
       "      <td>56</td>\n",
       "      <td>13</td>\n",
       "      <td>EN</td>\n",
       "      <td>NaN</td>\n",
       "      <td>114409</td>\n",
       "      <td>129514</td>\n",
       "      <td>...</td>\n",
       "      <td>57</td>\n",
       "      <td>0.046042</td>\n",
       "      <td>4</td>\n",
       "      <td>0.003231</td>\n",
       "      <td>2</td>\n",
       "      <td>0.001616</td>\n",
       "      <td>1554</td>\n",
       "      <td>1.255250</td>\n",
       "      <td>509</td>\n",
       "      <td>0.411147</td>\n",
       "    </tr>\n",
       "    <tr>\n",
       "      <th>4</th>\n",
       "      <td>AGGAAGGATGACGTAATGTT</td>\n",
       "      <td>chr1</td>\n",
       "      <td>778623</td>\n",
       "      <td>-</td>\n",
       "      <td>584</td>\n",
       "      <td>22</td>\n",
       "      <td>EN</td>\n",
       "      <td>NaN</td>\n",
       "      <td>100960</td>\n",
       "      <td>116065</td>\n",
       "      <td>...</td>\n",
       "      <td>57</td>\n",
       "      <td>0.046042</td>\n",
       "      <td>4</td>\n",
       "      <td>0.003231</td>\n",
       "      <td>2</td>\n",
       "      <td>0.001616</td>\n",
       "      <td>1554</td>\n",
       "      <td>1.255250</td>\n",
       "      <td>509</td>\n",
       "      <td>0.411147</td>\n",
       "    </tr>\n",
       "  </tbody>\n",
       "</table>\n",
       "<p>5 rows × 315 columns</p>\n",
       "</div>"
      ],
      "text/plain": [
       "                   brcd chrom     pos strand  nread  mapq cat gene_name  \\\n",
       "0      ACATATGATTAGGATT  chr1  721406      -   2539    26  IN       NaN   \n",
       "1  CAGGGGATGGCTCGGATGGG  chr1  752311      +    121    13  IN       NaN   \n",
       "2     ATTCGCGGTCTTGTTTG  chr1  761612      +   1988    22  IN       NaN   \n",
       "3  GATGATATTAGTGACTTAAG  chr1  765174      -     56    13  EN       NaN   \n",
       "4  AGGAAGGATGACGTAATGTT  chr1  778623      -    584    22  EN       NaN   \n",
       "\n",
       "   d_actgen  d_acttss        ...          TCF12_GSE29181_hb  \\\n",
       "0    158177    173282        ...                         13   \n",
       "1    127272    142377        ...                         57   \n",
       "2    117971    133076        ...                         57   \n",
       "3    114409    129514        ...                         57   \n",
       "4    100960    116065        ...                         57   \n",
       "\n",
       "   TCF12_GSE29181_hb_r  TCF3_GSE29181_zb  TCF3_GSE29181_zb_r  \\\n",
       "0             0.030374                 3            0.007009   \n",
       "1             0.046042                 4            0.003231   \n",
       "2             0.046042                 4            0.003231   \n",
       "3             0.046042                 4            0.003231   \n",
       "4             0.046042                 4            0.003231   \n",
       "\n",
       "   TCF3_GSE29181_hb  TCF3_GSE29181_hb_r  UTX_GSE72300_zb  UTX_GSE72300_zb_r  \\\n",
       "0                 1            0.002336              617           1.441589   \n",
       "1                 2            0.001616             1554           1.255250   \n",
       "2                 2            0.001616             1554           1.255250   \n",
       "3                 2            0.001616             1554           1.255250   \n",
       "4                 2            0.001616             1554           1.255250   \n",
       "\n",
       "   UTX_GSE72300_hb  UTX_GSE72300_hb_r  \n",
       "0              188           0.439252  \n",
       "1              509           0.411147  \n",
       "2              509           0.411147  \n",
       "3              509           0.411147  \n",
       "4              509           0.411147  \n",
       "\n",
       "[5 rows x 315 columns]"
      ]
     },
     "execution_count": 21,
     "metadata": {},
     "output_type": "execute_result"
    }
   ],
   "source": [
    "df = pd.read_table(\"Jurkat_hiv_50kb.txt\",comment=\"#\")\n",
    "#df = pd.read_table(\"train-Jurkat_BHIVE_mini_expr.txt\")\n",
    "#df = pd.read_table(\"/mnt/shared/data/MachineLearning/Jurkat_hiv_train_50kb.txt\",comment=\"#\")\n",
    "print df.shape\n",
    "column_names = df.columns.tolist()\n",
    "df.head()"
   ]
  },
  {
   "cell_type": "markdown",
   "metadata": {},
   "source": [
    "### Looking at integration count for each chromosome"
   ]
  },
  {
   "cell_type": "code",
   "execution_count": 3,
   "metadata": {
    "collapsed": false
   },
   "outputs": [],
   "source": [
    "#chr_expr = df.groupby(\"chrom\")[\"expr\"]#.agg([\"count\",\"mean\",\"std\",\"median\",\"min\",\"max\"])\n",
    "#print chr_expr.agg([\"count\",\"mean\",\"std\",\"median\",\"min\",\"max\"])\n",
    "#df.boxplot(column=\"expr\",by = \"chrom\",figsize=(15,10))"
   ]
  },
  {
   "cell_type": "code",
   "execution_count": 4,
   "metadata": {
    "collapsed": false
   },
   "outputs": [],
   "source": [
    "#chr_count = chr_expr.count().sort_values()\n",
    "#plt.figure(figsize=(15,10))\n",
    "#plt.xticks(range(len(chr_count.values)),chr_count.index.tolist())\n",
    "#plt.plot(chr_count.values,\"o\")\n",
    "#plt.show"
   ]
  },
  {
   "cell_type": "code",
   "execution_count": 5,
   "metadata": {
    "collapsed": false
   },
   "outputs": [],
   "source": [
    "#mapq_expr = df.groupby(\"H3K4me3\")[\"expr\"]#.agg([\"count\",\"mean\",\"std\",\"median\",\"min\",\"max\"])\n",
    "#print mapq_expr.agg([\"count\",\"mean\",\"std\",\"median\",\"min\",\"max\"])\n",
    "#df.boxplot(column=\"nread\",by = \"mapq\",figsize=(15,10))\n",
    "#df[df.H3K4me3 < 5000].plot(\"H3K4me3\",\"expr\",kind = \"scatter\")"
   ]
  },
  {
   "cell_type": "markdown",
   "metadata": {},
   "source": [
    "Features with NaN values.\n",
    "gene_name explained\n",
    "other NaN because given mark does not exist in given chromosome. Substitute with plus infinity or remove this feature for samples that do not have it."
   ]
  },
  {
   "cell_type": "code",
   "execution_count": 43,
   "metadata": {
    "collapsed": false
   },
   "outputs": [],
   "source": [
    "#nan_columns = df.isnull().any(axis = 0).index[df.isnull().any(axis = 0) == True].tolist()\n",
    "#for feature in nan_columns:\n",
    "#    print feature,\":\", features[feature],\"\\n\",df[feature].max()"
   ]
  },
  {
   "cell_type": "markdown",
   "metadata": {},
   "source": [
    "## Creating dummy one-hot variables"
   ]
  },
  {
   "cell_type": "code",
   "execution_count": 22,
   "metadata": {
    "collapsed": false
   },
   "outputs": [
    {
     "name": "stdout",
     "output_type": "stream",
     "text": [
      "There are 5 unique values for \"cat\" feature.\n",
      "\n",
      "['AG' 'AP' 'EN' 'IN' 'SG']\n",
      "There are 2 unique values for \"strand\" feature.\n",
      "\n",
      "['+' '-']\n"
     ]
    },
    {
     "data": {
      "text/html": [
       "<div>\n",
       "<table border=\"1\" class=\"dataframe\">\n",
       "  <thead>\n",
       "    <tr style=\"text-align: right;\">\n",
       "      <th></th>\n",
       "      <th>brcd</th>\n",
       "      <th>chrom</th>\n",
       "      <th>pos</th>\n",
       "      <th>nread</th>\n",
       "      <th>mapq</th>\n",
       "      <th>gene_name</th>\n",
       "      <th>d_actgen</th>\n",
       "      <th>d_acttss</th>\n",
       "      <th>d_silgen</th>\n",
       "      <th>d_siltss</th>\n",
       "      <th>...</th>\n",
       "      <th>TCF3_GSE29181_hb_r</th>\n",
       "      <th>UTX_GSE72300_zb</th>\n",
       "      <th>UTX_GSE72300_zb_r</th>\n",
       "      <th>UTX_GSE72300_hb</th>\n",
       "      <th>UTX_GSE72300_hb_r</th>\n",
       "      <th>cat_AP</th>\n",
       "      <th>cat_EN</th>\n",
       "      <th>cat_IN</th>\n",
       "      <th>cat_SG</th>\n",
       "      <th>strand_-</th>\n",
       "    </tr>\n",
       "  </thead>\n",
       "  <tbody>\n",
       "    <tr>\n",
       "      <th>0</th>\n",
       "      <td>ACATATGATTAGGATT</td>\n",
       "      <td>chr1</td>\n",
       "      <td>721406</td>\n",
       "      <td>2539</td>\n",
       "      <td>26</td>\n",
       "      <td>NaN</td>\n",
       "      <td>158177</td>\n",
       "      <td>173282</td>\n",
       "      <td>17125</td>\n",
       "      <td>17730</td>\n",
       "      <td>...</td>\n",
       "      <td>0.002336</td>\n",
       "      <td>617</td>\n",
       "      <td>1.441589</td>\n",
       "      <td>188</td>\n",
       "      <td>0.439252</td>\n",
       "      <td>0</td>\n",
       "      <td>0</td>\n",
       "      <td>1</td>\n",
       "      <td>0</td>\n",
       "      <td>1</td>\n",
       "    </tr>\n",
       "    <tr>\n",
       "      <th>1</th>\n",
       "      <td>CAGGGGATGGCTCGGATGGG</td>\n",
       "      <td>chr1</td>\n",
       "      <td>752311</td>\n",
       "      <td>121</td>\n",
       "      <td>13</td>\n",
       "      <td>NaN</td>\n",
       "      <td>127272</td>\n",
       "      <td>142377</td>\n",
       "      <td>13173</td>\n",
       "      <td>13173</td>\n",
       "      <td>...</td>\n",
       "      <td>0.001616</td>\n",
       "      <td>1554</td>\n",
       "      <td>1.255250</td>\n",
       "      <td>509</td>\n",
       "      <td>0.411147</td>\n",
       "      <td>0</td>\n",
       "      <td>0</td>\n",
       "      <td>1</td>\n",
       "      <td>0</td>\n",
       "      <td>0</td>\n",
       "    </tr>\n",
       "    <tr>\n",
       "      <th>2</th>\n",
       "      <td>ATTCGCGGTCTTGTTTG</td>\n",
       "      <td>chr1</td>\n",
       "      <td>761612</td>\n",
       "      <td>1988</td>\n",
       "      <td>22</td>\n",
       "      <td>NaN</td>\n",
       "      <td>117971</td>\n",
       "      <td>133076</td>\n",
       "      <td>22474</td>\n",
       "      <td>22474</td>\n",
       "      <td>...</td>\n",
       "      <td>0.001616</td>\n",
       "      <td>1554</td>\n",
       "      <td>1.255250</td>\n",
       "      <td>509</td>\n",
       "      <td>0.411147</td>\n",
       "      <td>0</td>\n",
       "      <td>0</td>\n",
       "      <td>1</td>\n",
       "      <td>0</td>\n",
       "      <td>0</td>\n",
       "    </tr>\n",
       "    <tr>\n",
       "      <th>3</th>\n",
       "      <td>GATGATATTAGTGACTTAAG</td>\n",
       "      <td>chr1</td>\n",
       "      <td>765174</td>\n",
       "      <td>56</td>\n",
       "      <td>13</td>\n",
       "      <td>NaN</td>\n",
       "      <td>114409</td>\n",
       "      <td>129514</td>\n",
       "      <td>26036</td>\n",
       "      <td>26036</td>\n",
       "      <td>...</td>\n",
       "      <td>0.001616</td>\n",
       "      <td>1554</td>\n",
       "      <td>1.255250</td>\n",
       "      <td>509</td>\n",
       "      <td>0.411147</td>\n",
       "      <td>0</td>\n",
       "      <td>1</td>\n",
       "      <td>0</td>\n",
       "      <td>0</td>\n",
       "      <td>1</td>\n",
       "    </tr>\n",
       "    <tr>\n",
       "      <th>4</th>\n",
       "      <td>AGGAAGGATGACGTAATGTT</td>\n",
       "      <td>chr1</td>\n",
       "      <td>778623</td>\n",
       "      <td>584</td>\n",
       "      <td>22</td>\n",
       "      <td>NaN</td>\n",
       "      <td>100960</td>\n",
       "      <td>116065</td>\n",
       "      <td>39419</td>\n",
       "      <td>39419</td>\n",
       "      <td>...</td>\n",
       "      <td>0.001616</td>\n",
       "      <td>1554</td>\n",
       "      <td>1.255250</td>\n",
       "      <td>509</td>\n",
       "      <td>0.411147</td>\n",
       "      <td>0</td>\n",
       "      <td>1</td>\n",
       "      <td>0</td>\n",
       "      <td>0</td>\n",
       "      <td>1</td>\n",
       "    </tr>\n",
       "  </tbody>\n",
       "</table>\n",
       "<p>5 rows × 318 columns</p>\n",
       "</div>"
      ],
      "text/plain": [
       "                   brcd chrom     pos  nread  mapq gene_name  d_actgen  \\\n",
       "0      ACATATGATTAGGATT  chr1  721406   2539    26       NaN    158177   \n",
       "1  CAGGGGATGGCTCGGATGGG  chr1  752311    121    13       NaN    127272   \n",
       "2     ATTCGCGGTCTTGTTTG  chr1  761612   1988    22       NaN    117971   \n",
       "3  GATGATATTAGTGACTTAAG  chr1  765174     56    13       NaN    114409   \n",
       "4  AGGAAGGATGACGTAATGTT  chr1  778623    584    22       NaN    100960   \n",
       "\n",
       "   d_acttss  d_silgen  d_siltss    ...     TCF3_GSE29181_hb_r  \\\n",
       "0    173282     17125     17730    ...               0.002336   \n",
       "1    142377     13173     13173    ...               0.001616   \n",
       "2    133076     22474     22474    ...               0.001616   \n",
       "3    129514     26036     26036    ...               0.001616   \n",
       "4    116065     39419     39419    ...               0.001616   \n",
       "\n",
       "   UTX_GSE72300_zb  UTX_GSE72300_zb_r  UTX_GSE72300_hb  UTX_GSE72300_hb_r  \\\n",
       "0              617           1.441589              188           0.439252   \n",
       "1             1554           1.255250              509           0.411147   \n",
       "2             1554           1.255250              509           0.411147   \n",
       "3             1554           1.255250              509           0.411147   \n",
       "4             1554           1.255250              509           0.411147   \n",
       "\n",
       "   cat_AP  cat_EN  cat_IN  cat_SG  strand_-  \n",
       "0       0       0       1       0         1  \n",
       "1       0       0       1       0         0  \n",
       "2       0       0       1       0         0  \n",
       "3       0       1       0       0         1  \n",
       "4       0       1       0       0         1  \n",
       "\n",
       "[5 rows x 318 columns]"
      ]
     },
     "execution_count": 22,
     "metadata": {},
     "output_type": "execute_result"
    }
   ],
   "source": [
    "%run scripts/dataset_processing.py\n",
    "cat_features = [\"cat\",\"strand\"]\n",
    "df = encode_one_hot(df,cat_features)\n",
    "df.head()"
   ]
  },
  {
   "cell_type": "markdown",
   "metadata": {},
   "source": [
    "## Adding GMFPT and Contact decay features"
   ]
  },
  {
   "cell_type": "code",
   "execution_count": 23,
   "metadata": {
    "collapsed": false
   },
   "outputs": [],
   "source": [
    "resolution = {'100kb': 100000, '10kb': 10000, '500kb': 50000, '50kb': 50000}"
   ]
  },
  {
   "cell_type": "code",
   "execution_count": 24,
   "metadata": {
    "collapsed": false,
    "scrolled": true
   },
   "outputs": [
    {
     "name": "stdout",
     "output_type": "stream",
     "text": [
      "Computing feature: row_sum\n",
      "Computing feature: gmfpt\n",
      "Computing feature: c_decay\n"
     ]
    }
   ],
   "source": [
    "%run /home/etiavlovsky/CRG/scripts/dataset_processing.py\n",
    "#%run scripts/file_processing.py\n",
    "\n",
    "res = \"50kb\"\n",
    "#bins = (df[\"pos\"]/resolution[res]).astype(np.int).values\n",
    "directory = \"/mnt/shared/data/HiC_processing/\"\n",
    "feature_filenames = {\"c_decay\":\"contacts_decay_Jurkat_\",\\\n",
    "                     \"gmfpt\":\"gmfpt_feature_Jurkat_\",\\\n",
    "                     \"row_sum\":\"row_sum_Jurkat_\"}\n",
    "\n",
    "df = import_features(df,res,directory,feature_filenames)\n",
    "column_names = df.columns.tolist()"
   ]
  },
  {
   "cell_type": "code",
   "execution_count": 25,
   "metadata": {
    "collapsed": false
   },
   "outputs": [],
   "source": [
    "# split into train and test datasets\n",
    "%run ~/CRG/scripts/table_processing.py\n",
    "train_idx,test_idx = train_test_split(df,0.8)"
   ]
  },
  {
   "cell_type": "code",
   "execution_count": 26,
   "metadata": {
    "collapsed": false
   },
   "outputs": [
    {
     "data": {
      "text/plain": [
       "(11378, 321)"
      ]
     },
     "execution_count": 26,
     "metadata": {},
     "output_type": "execute_result"
    }
   ],
   "source": [
    "df.shape"
   ]
  },
  {
   "cell_type": "code",
   "execution_count": 36,
   "metadata": {
    "collapsed": false
   },
   "outputs": [
    {
     "name": "stdout",
     "output_type": "stream",
     "text": [
      "(9092, 321)\n"
     ]
    }
   ],
   "source": [
    "# select training set\n",
    "df_train = df.ix[train_idx,:]\n",
    "print df_train.shape\n",
    "df_train.to_csv(\"Jurkat_hiv_train_50kb.txt\",sep=\"\\t\",index=False)\n",
    "del df_train"
   ]
  },
  {
   "cell_type": "code",
   "execution_count": 42,
   "metadata": {
    "collapsed": false
   },
   "outputs": [
    {
     "data": {
      "text/plain": [
       "(2286, 319)"
      ]
     },
     "execution_count": 42,
     "metadata": {},
     "output_type": "execute_result"
    }
   ],
   "source": [
    "df_train = pd.read_csv(\"Jurkat_hiv_test_50kb.txt\",sep=\"\\t\",)\n",
    "df_train.shape"
   ]
  },
  {
   "cell_type": "code",
   "execution_count": 43,
   "metadata": {
    "collapsed": false
   },
   "outputs": [],
   "source": [
    "del df_train"
   ]
  },
  {
   "cell_type": "code",
   "execution_count": 41,
   "metadata": {
    "collapsed": true
   },
   "outputs": [
    {
     "name": "stdout",
     "output_type": "stream",
     "text": [
      "      RNA      expr\n",
      "17    917  0.140478\n",
      "20   4444  0.100316\n",
      "21   1524  0.051242\n",
      "22   3858  0.184996\n",
      "23  15555  0.394319\n",
      "(2286, 319)\n",
      "                    brcd chrom      pos  nread  mapq gene_name  d_actgen  \\\n",
      "17   CGCAGCCGACGTACCGACG  chr1  1278044    141   100      DVL1         0   \n",
      "20  TTGATTCTACCTCAGGGAGA  chr1  1327159   3930    28     CCNL2         0   \n",
      "21  GCCTCACACATTTGAGACCC  chr1  1329333    638    25     CCNL2         0   \n",
      "22  GGATGGACTTCGGATCTTAA  chr1  1452503    216   100    ATAD3A         0   \n",
      "23      CTCCCTCGTTGGCGGC  chr1  1455991     21    13    ATAD3A         0   \n",
      "\n",
      "    d_acttss  d_silgen  d_siltss   ...     UTX_GSE72300_hb  UTX_GSE72300_hb_r  \\\n",
      "17      6685      7357     11349   ...                 465           0.445402   \n",
      "20      7548     26640     29989   ...                 534           0.442786   \n",
      "21      5374     24466     27815   ...                 534           0.442786   \n",
      "22      4971     18050     23329   ...                 507           0.440104   \n",
      "23      8459     14562     19841   ...                 507           0.440104   \n",
      "\n",
      "    cat_AP  cat_EN  cat_IN  cat_SG  strand_-  row_sum   gmfpt  c_decay  \n",
      "17       0       0       0       0         0   8494.0  6153.0  -1.3687  \n",
      "20       0       0       0       0         0   8798.0  6007.0  -1.3613  \n",
      "21       0       0       0       0         0   8798.0  6007.0  -1.3613  \n",
      "22       0       1       0       0         0   8641.0  6045.0  -1.3151  \n",
      "23       0       0       0       0         0   8641.0  6045.0  -1.3151  \n",
      "\n",
      "[5 rows x 319 columns]\n"
     ]
    }
   ],
   "source": [
    "# select training set\n",
    "df_test = df.ix[test_idx,:]\n",
    "drop_features(df_test,[\"RNA\",\"expr\"])\n",
    "print df_test.shape\n",
    "print df_test.head()\n",
    "df_test.to_csv(\"Jurkat_hiv_test_50kb.txt\",sep=\"\\t\",index=False)\n",
    "del df_test"
   ]
  },
  {
   "cell_type": "code",
   "execution_count": 8,
   "metadata": {
    "collapsed": false
   },
   "outputs": [
    {
     "ename": "NameError",
     "evalue": "name 'df' is not defined",
     "output_type": "error",
     "traceback": [
      "\u001b[0;31m---------------------------------------------------------------------------\u001b[0m",
      "\u001b[0;31mNameError\u001b[0m                                 Traceback (most recent call last)",
      "\u001b[0;32m<ipython-input-8-0674b81c6f5d>\u001b[0m in \u001b[0;36m<module>\u001b[0;34m()\u001b[0m\n\u001b[1;32m      1\u001b[0m \u001b[0mget_ipython\u001b[0m\u001b[0;34m(\u001b[0m\u001b[0;34m)\u001b[0m\u001b[0;34m.\u001b[0m\u001b[0mmagic\u001b[0m\u001b[0;34m(\u001b[0m\u001b[0;34mu'run scripts/dataset_processing.py'\u001b[0m\u001b[0;34m)\u001b[0m\u001b[0;34m\u001b[0m\u001b[0m\n\u001b[0;32m----> 2\u001b[0;31m \u001b[0my\u001b[0m \u001b[0;34m=\u001b[0m \u001b[0mget_target_values\u001b[0m\u001b[0;34m(\u001b[0m\u001b[0mdf\u001b[0m\u001b[0;34m)\u001b[0m\u001b[0;34m\u001b[0m\u001b[0m\n\u001b[0m\u001b[1;32m      3\u001b[0m \u001b[0mdf\u001b[0m\u001b[0;34m.\u001b[0m\u001b[0mhead\u001b[0m\u001b[0;34m(\u001b[0m\u001b[0;34m)\u001b[0m\u001b[0;34m\u001b[0m\u001b[0m\n",
      "\u001b[0;31mNameError\u001b[0m: name 'df' is not defined"
     ]
    }
   ],
   "source": [
    "%run scripts/dataset_processing.py\n",
    "y = get_target_values(df)\n",
    "df.head()"
   ]
  },
  {
   "cell_type": "code",
   "execution_count": 9,
   "metadata": {
    "collapsed": true
   },
   "outputs": [
    {
     "name": "stdout",
     "output_type": "stream",
     "text": [
      "Label split: 0.51\n",
      "(9902,)\n",
      "[ 1.  0.  1. ...,  0.  1.  1.]\n"
     ]
    },
    {
     "data": {
      "text/html": [
       "<div>\n",
       "<table border=\"1\" class=\"dataframe\">\n",
       "  <thead>\n",
       "    <tr style=\"text-align: right;\">\n",
       "      <th></th>\n",
       "      <th>brcd</th>\n",
       "      <th>chrom</th>\n",
       "      <th>pos</th>\n",
       "      <th>strand</th>\n",
       "      <th>nread</th>\n",
       "      <th>mapq</th>\n",
       "      <th>cat</th>\n",
       "      <th>gene_name</th>\n",
       "      <th>d_actgen</th>\n",
       "      <th>d_acttss</th>\n",
       "      <th>...</th>\n",
       "      <th>RNA</th>\n",
       "      <th>expr</th>\n",
       "      <th>AG</th>\n",
       "      <th>AP</th>\n",
       "      <th>EN</th>\n",
       "      <th>SG</th>\n",
       "      <th>Stand +</th>\n",
       "      <th>in_gene</th>\n",
       "      <th>RNA/DNA</th>\n",
       "      <th>pos_expr</th>\n",
       "    </tr>\n",
       "  </thead>\n",
       "  <tbody>\n",
       "    <tr>\n",
       "      <th>0</th>\n",
       "      <td>AAACACGGCCTTGCCTTTT</td>\n",
       "      <td>chr11</td>\n",
       "      <td>66913386</td>\n",
       "      <td>-</td>\n",
       "      <td>1172</td>\n",
       "      <td>31</td>\n",
       "      <td>AG</td>\n",
       "      <td>KDM2A</td>\n",
       "      <td>0</td>\n",
       "      <td>26645</td>\n",
       "      <td>...</td>\n",
       "      <td>981</td>\n",
       "      <td>0.382298</td>\n",
       "      <td>1.0</td>\n",
       "      <td>0.0</td>\n",
       "      <td>0.0</td>\n",
       "      <td>0.0</td>\n",
       "      <td>0.0</td>\n",
       "      <td>1.0</td>\n",
       "      <td>7.160584</td>\n",
       "      <td>1.0</td>\n",
       "    </tr>\n",
       "    <tr>\n",
       "      <th>1</th>\n",
       "      <td>AAACAGCTAAATTCCGG</td>\n",
       "      <td>chr6</td>\n",
       "      <td>97617243</td>\n",
       "      <td>+</td>\n",
       "      <td>1737</td>\n",
       "      <td>19</td>\n",
       "      <td>AG</td>\n",
       "      <td>MMS22L</td>\n",
       "      <td>0</td>\n",
       "      <td>113849</td>\n",
       "      <td>...</td>\n",
       "      <td>785</td>\n",
       "      <td>-0.548592</td>\n",
       "      <td>1.0</td>\n",
       "      <td>0.0</td>\n",
       "      <td>0.0</td>\n",
       "      <td>0.0</td>\n",
       "      <td>1.0</td>\n",
       "      <td>1.0</td>\n",
       "      <td>0.839572</td>\n",
       "      <td>0.0</td>\n",
       "    </tr>\n",
       "    <tr>\n",
       "      <th>2</th>\n",
       "      <td>AAACGAGCGGCTCAATAAGG</td>\n",
       "      <td>chr22</td>\n",
       "      <td>40268421</td>\n",
       "      <td>+</td>\n",
       "      <td>4112</td>\n",
       "      <td>31</td>\n",
       "      <td>SG</td>\n",
       "      <td>ENTHD1</td>\n",
       "      <td>28664</td>\n",
       "      <td>28664</td>\n",
       "      <td>...</td>\n",
       "      <td>49790</td>\n",
       "      <td>0.392111</td>\n",
       "      <td>0.0</td>\n",
       "      <td>0.0</td>\n",
       "      <td>0.0</td>\n",
       "      <td>1.0</td>\n",
       "      <td>1.0</td>\n",
       "      <td>1.0</td>\n",
       "      <td>7.324213</td>\n",
       "      <td>1.0</td>\n",
       "    </tr>\n",
       "    <tr>\n",
       "      <th>3</th>\n",
       "      <td>AAACTACATCTAGTAGTCTA</td>\n",
       "      <td>chr1</td>\n",
       "      <td>229585998</td>\n",
       "      <td>+</td>\n",
       "      <td>1170</td>\n",
       "      <td>26</td>\n",
       "      <td>AG</td>\n",
       "      <td>NUP133</td>\n",
       "      <td>0</td>\n",
       "      <td>16152</td>\n",
       "      <td>...</td>\n",
       "      <td>9506</td>\n",
       "      <td>-0.034481</td>\n",
       "      <td>1.0</td>\n",
       "      <td>0.0</td>\n",
       "      <td>0.0</td>\n",
       "      <td>0.0</td>\n",
       "      <td>1.0</td>\n",
       "      <td>1.0</td>\n",
       "      <td>2.742643</td>\n",
       "      <td>0.0</td>\n",
       "    </tr>\n",
       "    <tr>\n",
       "      <th>4</th>\n",
       "      <td>AAACTGACTGATTGAATGCC</td>\n",
       "      <td>chr17</td>\n",
       "      <td>36374093</td>\n",
       "      <td>-</td>\n",
       "      <td>14902</td>\n",
       "      <td>28</td>\n",
       "      <td>AG</td>\n",
       "      <td>RP11-1407O15.2</td>\n",
       "      <td>0</td>\n",
       "      <td>15926</td>\n",
       "      <td>...</td>\n",
       "      <td>19513</td>\n",
       "      <td>0.125444</td>\n",
       "      <td>1.0</td>\n",
       "      <td>0.0</td>\n",
       "      <td>0.0</td>\n",
       "      <td>0.0</td>\n",
       "      <td>0.0</td>\n",
       "      <td>1.0</td>\n",
       "      <td>3.963640</td>\n",
       "      <td>1.0</td>\n",
       "    </tr>\n",
       "  </tbody>\n",
       "</table>\n",
       "<p>5 rows × 89 columns</p>\n",
       "</div>"
      ],
      "text/plain": [
       "                   brcd  chrom        pos strand  nread  mapq cat  \\\n",
       "0   AAACACGGCCTTGCCTTTT  chr11   66913386      -   1172    31  AG   \n",
       "1     AAACAGCTAAATTCCGG   chr6   97617243      +   1737    19  AG   \n",
       "2  AAACGAGCGGCTCAATAAGG  chr22   40268421      +   4112    31  SG   \n",
       "3  AAACTACATCTAGTAGTCTA   chr1  229585998      +   1170    26  AG   \n",
       "4  AAACTGACTGATTGAATGCC  chr17   36374093      -  14902    28  AG   \n",
       "\n",
       "        gene_name  d_actgen  d_acttss    ...       RNA      expr   AG   AP  \\\n",
       "0           KDM2A         0     26645    ...       981  0.382298  1.0  0.0   \n",
       "1          MMS22L         0    113849    ...       785 -0.548592  1.0  0.0   \n",
       "2          ENTHD1     28664     28664    ...     49790  0.392111  0.0  0.0   \n",
       "3          NUP133         0     16152    ...      9506 -0.034481  1.0  0.0   \n",
       "4  RP11-1407O15.2         0     15926    ...     19513  0.125444  1.0  0.0   \n",
       "\n",
       "    EN   SG  Stand +  in_gene   RNA/DNA  pos_expr  \n",
       "0  0.0  0.0      0.0      1.0  7.160584       1.0  \n",
       "1  0.0  0.0      1.0      1.0  0.839572       0.0  \n",
       "2  0.0  1.0      1.0      1.0  7.324213       1.0  \n",
       "3  0.0  0.0      1.0      1.0  2.742643       0.0  \n",
       "4  0.0  0.0      0.0      1.0  3.963640       1.0  \n",
       "\n",
       "[5 rows x 89 columns]"
      ]
     },
     "execution_count": 9,
     "metadata": {},
     "output_type": "execute_result"
    }
   ],
   "source": [
    "y_train = encode_target_values(df_train)\n",
    "print y_train\n",
    "df_train.head()"
   ]
  },
  {
   "cell_type": "code",
   "execution_count": 67,
   "metadata": {
    "collapsed": true
   },
   "outputs": [
    {
     "name": "stdout",
     "output_type": "stream",
     "text": [
      "Label split: 0.51\n",
      "(2979,)\n",
      "[ 0.  1.  0. ...,  0.  1.  0.]\n"
     ]
    },
    {
     "data": {
      "text/html": [
       "<div>\n",
       "<table border=\"1\" class=\"dataframe\">\n",
       "  <thead>\n",
       "    <tr style=\"text-align: right;\">\n",
       "      <th></th>\n",
       "      <th>brcd</th>\n",
       "      <th>chrom</th>\n",
       "      <th>pos</th>\n",
       "      <th>strand</th>\n",
       "      <th>nread</th>\n",
       "      <th>mapq</th>\n",
       "      <th>cat</th>\n",
       "      <th>gene_name</th>\n",
       "      <th>d_actgen</th>\n",
       "      <th>d_acttss</th>\n",
       "      <th>...</th>\n",
       "      <th>DNA</th>\n",
       "      <th>RNA</th>\n",
       "      <th>AG</th>\n",
       "      <th>AP</th>\n",
       "      <th>EN</th>\n",
       "      <th>SG</th>\n",
       "      <th>Stand +</th>\n",
       "      <th>in_gene</th>\n",
       "      <th>RNA/DNA</th>\n",
       "      <th>pos_expr</th>\n",
       "    </tr>\n",
       "  </thead>\n",
       "  <tbody>\n",
       "    <tr>\n",
       "      <th>0</th>\n",
       "      <td>AAAAGAGCCCATCCGG</td>\n",
       "      <td>chr2</td>\n",
       "      <td>231199652</td>\n",
       "      <td>+</td>\n",
       "      <td>763</td>\n",
       "      <td>100</td>\n",
       "      <td>AG</td>\n",
       "      <td>SP140L</td>\n",
       "      <td>0</td>\n",
       "      <td>7752</td>\n",
       "      <td>...</td>\n",
       "      <td>1439</td>\n",
       "      <td>90</td>\n",
       "      <td>1.0</td>\n",
       "      <td>0.0</td>\n",
       "      <td>0.0</td>\n",
       "      <td>0.0</td>\n",
       "      <td>1.0</td>\n",
       "      <td>1.0</td>\n",
       "      <td>0.062543</td>\n",
       "      <td>0.0</td>\n",
       "    </tr>\n",
       "    <tr>\n",
       "      <th>1</th>\n",
       "      <td>AAAATAGCAGTTCCCTAGTA</td>\n",
       "      <td>chr1</td>\n",
       "      <td>230393530</td>\n",
       "      <td>+</td>\n",
       "      <td>1780</td>\n",
       "      <td>29</td>\n",
       "      <td>EN</td>\n",
       "      <td>GALNT2</td>\n",
       "      <td>0</td>\n",
       "      <td>167944</td>\n",
       "      <td>...</td>\n",
       "      <td>3348</td>\n",
       "      <td>17864</td>\n",
       "      <td>0.0</td>\n",
       "      <td>0.0</td>\n",
       "      <td>1.0</td>\n",
       "      <td>0.0</td>\n",
       "      <td>1.0</td>\n",
       "      <td>1.0</td>\n",
       "      <td>5.335723</td>\n",
       "      <td>1.0</td>\n",
       "    </tr>\n",
       "    <tr>\n",
       "      <th>2</th>\n",
       "      <td>AAACAGAATTATTAATCGTC</td>\n",
       "      <td>chrX</td>\n",
       "      <td>44172515</td>\n",
       "      <td>-</td>\n",
       "      <td>7157</td>\n",
       "      <td>34</td>\n",
       "      <td>SG</td>\n",
       "      <td>EFHC2</td>\n",
       "      <td>210369</td>\n",
       "      <td>229731</td>\n",
       "      <td>...</td>\n",
       "      <td>1113</td>\n",
       "      <td>230</td>\n",
       "      <td>0.0</td>\n",
       "      <td>0.0</td>\n",
       "      <td>0.0</td>\n",
       "      <td>1.0</td>\n",
       "      <td>0.0</td>\n",
       "      <td>1.0</td>\n",
       "      <td>0.206649</td>\n",
       "      <td>0.0</td>\n",
       "    </tr>\n",
       "    <tr>\n",
       "      <th>3</th>\n",
       "      <td>AAACATACATTTGTCCCGCA</td>\n",
       "      <td>chr17</td>\n",
       "      <td>37441592</td>\n",
       "      <td>-</td>\n",
       "      <td>15035</td>\n",
       "      <td>31</td>\n",
       "      <td>AG</td>\n",
       "      <td>FBXL20</td>\n",
       "      <td>0</td>\n",
       "      <td>85055</td>\n",
       "      <td>...</td>\n",
       "      <td>7021</td>\n",
       "      <td>36754</td>\n",
       "      <td>1.0</td>\n",
       "      <td>0.0</td>\n",
       "      <td>0.0</td>\n",
       "      <td>0.0</td>\n",
       "      <td>0.0</td>\n",
       "      <td>1.0</td>\n",
       "      <td>5.234867</td>\n",
       "      <td>1.0</td>\n",
       "    </tr>\n",
       "    <tr>\n",
       "      <th>4</th>\n",
       "      <td>AAAGAGTCATATAAGTAAAC</td>\n",
       "      <td>chr3</td>\n",
       "      <td>31430371</td>\n",
       "      <td>+</td>\n",
       "      <td>2537</td>\n",
       "      <td>24</td>\n",
       "      <td>EN</td>\n",
       "      <td>NaN</td>\n",
       "      <td>143758</td>\n",
       "      <td>143758</td>\n",
       "      <td>...</td>\n",
       "      <td>152</td>\n",
       "      <td>2039</td>\n",
       "      <td>0.0</td>\n",
       "      <td>0.0</td>\n",
       "      <td>1.0</td>\n",
       "      <td>0.0</td>\n",
       "      <td>1.0</td>\n",
       "      <td>0.0</td>\n",
       "      <td>13.414474</td>\n",
       "      <td>1.0</td>\n",
       "    </tr>\n",
       "  </tbody>\n",
       "</table>\n",
       "<p>5 rows × 88 columns</p>\n",
       "</div>"
      ],
      "text/plain": [
       "                   brcd  chrom        pos strand  nread  mapq cat gene_name  \\\n",
       "0      AAAAGAGCCCATCCGG   chr2  231199652      +    763   100  AG    SP140L   \n",
       "1  AAAATAGCAGTTCCCTAGTA   chr1  230393530      +   1780    29  EN    GALNT2   \n",
       "2  AAACAGAATTATTAATCGTC   chrX   44172515      -   7157    34  SG     EFHC2   \n",
       "3  AAACATACATTTGTCCCGCA  chr17   37441592      -  15035    31  AG    FBXL20   \n",
       "4  AAAGAGTCATATAAGTAAAC   chr3   31430371      +   2537    24  EN       NaN   \n",
       "\n",
       "   d_actgen  d_acttss    ...      DNA    RNA   AG   AP   EN   SG  Stand +  \\\n",
       "0         0      7752    ...     1439     90  1.0  0.0  0.0  0.0      1.0   \n",
       "1         0    167944    ...     3348  17864  0.0  0.0  1.0  0.0      1.0   \n",
       "2    210369    229731    ...     1113    230  0.0  0.0  0.0  1.0      0.0   \n",
       "3         0     85055    ...     7021  36754  1.0  0.0  0.0  0.0      0.0   \n",
       "4    143758    143758    ...      152   2039  0.0  0.0  1.0  0.0      1.0   \n",
       "\n",
       "   in_gene    RNA/DNA  pos_expr  \n",
       "0      1.0   0.062543       0.0  \n",
       "1      1.0   5.335723       1.0  \n",
       "2      1.0   0.206649       0.0  \n",
       "3      1.0   5.234867       1.0  \n",
       "4      0.0  13.414474       1.0  \n",
       "\n",
       "[5 rows x 88 columns]"
      ]
     },
     "execution_count": 67,
     "metadata": {},
     "output_type": "execute_result"
    }
   ],
   "source": [
    "y_test = encode_target_values(df_test)\n",
    "print y_test\n",
    "df_test.head()"
   ]
  },
  {
   "cell_type": "markdown",
   "metadata": {},
   "source": [
    "Dropping the Categorical and non_numerical features"
   ]
  },
  {
   "cell_type": "code",
   "execution_count": 155,
   "metadata": {
    "collapsed": false
   },
   "outputs": [
    {
     "data": {
      "text/plain": [
       "array(['chr2', 'chr2', 'chr2', ..., 'chrY', 'chrY', 'chrY'], dtype=object)"
      ]
     },
     "execution_count": 155,
     "metadata": {},
     "output_type": "execute_result"
    }
   ],
   "source": [
    "chroms = df.chrom.values\n",
    "chroms"
   ]
  },
  {
   "cell_type": "code",
   "execution_count": 157,
   "metadata": {
    "collapsed": false
   },
   "outputs": [
    {
     "name": "stdout",
     "output_type": "stream",
     "text": [
      "                     brcd chrom gene_name  rep    RNA/DNA  pos_expr    RNA  \\\n",
      "0        AAAAGAGCCCATCCGG  chr2    SP140L    3   0.062543       0.0     90   \n",
      "15   AAATATGGTCCAGACTTAAG  chr2     WDR33    1  11.591281       1.0   4254   \n",
      "35   AACCACATTCTCCTGACTCG  chr2  SLC39A10    1   4.359519       1.0  18868   \n",
      "80    AAGCGGTCGTGTTGGGTTT  chr2       C1D    8   2.961783       0.0   1395   \n",
      "130      AATCCAAATTGGCGCA  chr2       NaN    6   1.271832       0.0   1937   \n",
      "\n",
      "         expr  nread  mapq   DNA  \n",
      "0   -1.682349    757    29  1439  \n",
      "15   0.585601    738    20   367  \n",
      "35   0.160908   9568    11  4328  \n",
      "80  -0.006977   2566    26   471  \n",
      "130 -0.374101   5529    30  1523  \n"
     ]
    }
   ],
   "source": [
    "%run scripts/table_processing.py\n",
    "drop_features(df)\n",
    "df.head()"
   ]
  },
  {
   "cell_type": "code",
   "execution_count": 159,
   "metadata": {
    "collapsed": false
   },
   "outputs": [
    {
     "name": "stdout",
     "output_type": "stream",
     "text": [
      "Max value in the data nan\n"
     ]
    }
   ],
   "source": [
    "%run scripts/table_processing.py\n",
    "X,feature_names = create_matrix(df)\n",
    "del df"
   ]
  },
  {
   "cell_type": "markdown",
   "metadata": {},
   "source": [
    "### Applying the Decision tree classifier"
   ]
  },
  {
   "cell_type": "code",
   "execution_count": 79,
   "metadata": {
    "collapsed": false
   },
   "outputs": [
    {
     "data": {
      "text/plain": [
       "GridSearchCV(cv=10, error_score='raise',\n",
       "       estimator=DecisionTreeClassifier(class_weight=None, criterion='gini', max_depth=None,\n",
       "            max_features=None, max_leaf_nodes=None,\n",
       "            min_impurity_split=1e-07, min_samples_leaf=1,\n",
       "            min_samples_split=2, min_weight_fraction_leaf=0.0,\n",
       "            presort=False, random_state=None, splitter='best'),\n",
       "       fit_params={}, iid=True, n_jobs=1,\n",
       "       param_grid={'min_samples_split': (2, 10, 100, 150)},\n",
       "       pre_dispatch='2*n_jobs', refit=True, return_train_score=True,\n",
       "       scoring=None, verbose=0)"
      ]
     },
     "execution_count": 79,
     "metadata": {},
     "output_type": "execute_result"
    }
   ],
   "source": [
    "clf = DecisionTreeClassifier()\n",
    "clf.get_params\n",
    "parameters = {\"min_samples_split\":(2,10,100,150)}\n",
    "clf = GridSearchCV(clf, parameters,cv = 10)\n",
    "clf.fit(X_train,y)"
   ]
  },
  {
   "cell_type": "code",
   "execution_count": 80,
   "metadata": {
    "collapsed": false
   },
   "outputs": [
    {
     "name": "stdout",
     "output_type": "stream",
     "text": [
      "{'min_samples_split': 150} 0.528176126035\n"
     ]
    },
    {
     "data": {
      "text/html": [
       "<div>\n",
       "<table border=\"1\" class=\"dataframe\">\n",
       "  <thead>\n",
       "    <tr style=\"text-align: right;\">\n",
       "      <th></th>\n",
       "      <th>params</th>\n",
       "      <th>mean_test_score</th>\n",
       "      <th>std_test_score</th>\n",
       "    </tr>\n",
       "  </thead>\n",
       "  <tbody>\n",
       "    <tr>\n",
       "      <th>0</th>\n",
       "      <td>{u'min_samples_split': 2}</td>\n",
       "      <td>0.519996</td>\n",
       "      <td>0.016515</td>\n",
       "    </tr>\n",
       "    <tr>\n",
       "      <th>1</th>\n",
       "      <td>{u'min_samples_split': 10}</td>\n",
       "      <td>0.516562</td>\n",
       "      <td>0.019125</td>\n",
       "    </tr>\n",
       "    <tr>\n",
       "      <th>2</th>\n",
       "      <td>{u'min_samples_split': 100}</td>\n",
       "      <td>0.523329</td>\n",
       "      <td>0.018952</td>\n",
       "    </tr>\n",
       "    <tr>\n",
       "      <th>3</th>\n",
       "      <td>{u'min_samples_split': 150}</td>\n",
       "      <td>0.528176</td>\n",
       "      <td>0.016548</td>\n",
       "    </tr>\n",
       "  </tbody>\n",
       "</table>\n",
       "</div>"
      ],
      "text/plain": [
       "                        params  mean_test_score  std_test_score\n",
       "0    {u'min_samples_split': 2}         0.519996        0.016515\n",
       "1   {u'min_samples_split': 10}         0.516562        0.019125\n",
       "2  {u'min_samples_split': 100}         0.523329        0.018952\n",
       "3  {u'min_samples_split': 150}         0.528176        0.016548"
      ]
     },
     "execution_count": 80,
     "metadata": {},
     "output_type": "execute_result"
    }
   ],
   "source": [
    "print clf.best_params_,clf.best_score_\n",
    "cv_results = pd.DataFrame(clf.cv_results_)\n",
    "cv_results[['params',\"mean_test_score\",\"std_test_score\"]]"
   ]
  },
  {
   "cell_type": "code",
   "execution_count": 81,
   "metadata": {
    "collapsed": false
   },
   "outputs": [
    {
     "name": "stdout",
     "output_type": "stream",
     "text": [
      "[ 0.54490414  0.5469223   0.51160444  0.52674067  0.49949546  0.52169526\n",
      "  0.52774975  0.50050454  0.53279516  0.51261352]\n",
      "Accuracy: 0.52 (+/- 0.03)\n"
     ]
    }
   ],
   "source": [
    "from sklearn.model_selection import cross_val_score\n",
    "cv = StratifiedShuffleSplit(n_splits=10, test_size=0.1)\n",
    "clf = DecisionTreeClassifier(min_samples_split=150)\n",
    "scores = cross_val_score(clf, X, y, cv=cv)\n",
    "print scores       \n",
    "\n",
    "print(\"Accuracy: %0.2f (+/- %0.2f)\" % (scores.mean(), scores.std() * 2))"
   ]
  },
  {
   "cell_type": "code",
   "execution_count": 31,
   "metadata": {
    "collapsed": false
   },
   "outputs": [],
   "source": [
    "kf = KFold(n_splits = 10,shuffle = True)\n",
    "cv = StratifiedShuffleSplit(n_splits=10, test_size=0.2)\n",
    "yhat = np.zeros((X.shape[0],1))\n",
    "\n",
    "acc = np.zeros((10,))\n",
    "\n",
    "count = 0\n",
    "for train_idx, test_idx in cv.split(X,y):\n",
    "    X_train,y_train = X[train_idx,:],y[train_idx]\n",
    "    X_test,y_test = X[test_idx,:],y[test_idx]\n",
    "    \n",
    "    clf = DecisionTreeClassifier(min_samples_split = 100)\n",
    "    \n",
    "    yhat_train = clf.fit(X_train,y_train).predict(X_train)\n",
    "    yhat[test_idx] = clf.predict(X_test).reshape(-1,1)   \n",
    "    \n",
    "    acc[count] = metrics.accuracy_score(y_test,yhat[test_idx])\n",
    "    #print '\\nTraining Accuracy score: ' + str(metrics.accuracy_score(y_train,yhat_train))\n",
    "    #print 'Testing Accuracy score: ' + str(metrics.accuracy_score(y_test,yhat[test_idx]))\n",
    "\n",
    "#print '\\nAccuracy score: ',acc.mean()\n",
    "#print metrics.classification_report(y,yhat)"
   ]
  },
  {
   "cell_type": "markdown",
   "metadata": {},
   "source": [
    "### Applying RandomForestClassifer"
   ]
  },
  {
   "cell_type": "code",
   "execution_count": 160,
   "metadata": {
    "collapsed": false
   },
   "outputs": [],
   "source": [
    "chroms = chroms.astype(np.str)"
   ]
  },
  {
   "cell_type": "code",
   "execution_count": 161,
   "metadata": {
    "collapsed": false
   },
   "outputs": [
    {
     "data": {
      "text/plain": [
       "array(['chr2', 'chr2', 'chr2', ..., 'chrY', 'chrY', 'chrY'], \n",
       "      dtype='|S5')"
      ]
     },
     "execution_count": 161,
     "metadata": {},
     "output_type": "execute_result"
    }
   ],
   "source": [
    "chroms"
   ]
  },
  {
   "cell_type": "code",
   "execution_count": 169,
   "metadata": {
    "collapsed": false
   },
   "outputs": [
    {
     "name": "stdout",
     "output_type": "stream",
     "text": [
      "\n",
      "chr1 (816,) 0.51\n",
      "\n",
      "Best parameters: {'max_features': 20, 'min_samples_split': 2}\n",
      "Accuracy (mean +/- 2*sd): 0.53 (+/- 0.05)\n",
      "\n",
      "chr10 (282,) 0.46\n",
      "\n",
      "Best parameters: {'max_features': 'auto', 'min_samples_split': 10}\n",
      "Accuracy (mean +/- 2*sd): 0.51 (+/- 0.16)\n",
      "\n",
      "chr11 (567,) 0.59\n",
      "\n",
      "Best parameters: {'max_features': 5, 'min_samples_split': 2}\n",
      "Accuracy (mean +/- 2*sd): 0.60 (+/- 0.06)\n",
      "\n",
      "chr12 (561,) 0.53\n",
      "\n",
      "Best parameters: {'max_features': 'auto', 'min_samples_split': 100}\n",
      "Accuracy (mean +/- 2*sd): 0.55 (+/- 0.09)\n",
      "\n",
      "chr13 (191,) 0.53\n",
      "\n",
      "Best parameters: {'max_features': 'auto', 'min_samples_split': 100}\n",
      "Accuracy (mean +/- 2*sd): 0.52 (+/- 0.22)\n",
      "\n",
      "chr14 (273,) 0.50\n",
      "\n",
      "Best parameters: {'max_features': 5, 'min_samples_split': 2}\n",
      "Accuracy (mean +/- 2*sd): 0.54 (+/- 0.15)\n",
      "\n",
      "chr15 (206,) 0.49\n",
      "\n",
      "Best parameters: {'max_features': 5, 'min_samples_split': 10}\n",
      "Accuracy (mean +/- 2*sd): 0.52 (+/- 0.21)\n",
      "\n",
      "chr16 (510,) 0.53\n",
      "\n",
      "Best parameters: {'max_features': 'auto', 'min_samples_split': 50}\n",
      "Accuracy (mean +/- 2*sd): 0.55 (+/- 0.04)\n",
      "\n",
      "chr17 (739,) 0.55\n",
      "\n",
      "Best parameters: {'max_features': 'auto', 'min_samples_split': 2}\n",
      "Accuracy (mean +/- 2*sd): 0.57 (+/- 0.16)\n",
      "\n",
      "chr18 (126,) 0.37\n",
      "\n",
      "Best parameters: {'max_features': 20, 'min_samples_split': 50}\n",
      "Accuracy (mean +/- 2*sd): 0.60 (+/- 0.10)\n",
      "\n",
      "chr19 (556,) 0.56\n",
      "\n",
      "Best parameters: {'max_features': 5, 'min_samples_split': 10}\n",
      "Accuracy (mean +/- 2*sd): 0.59 (+/- 0.11)\n",
      "\n",
      "chr2 (561,) 0.48\n",
      "\n",
      "Best parameters: {'max_features': 'auto', 'min_samples_split': 100}\n",
      "Accuracy (mean +/- 2*sd): 0.52 (+/- 0.11)\n",
      "\n",
      "chr20 (206,) 0.44\n",
      "\n",
      "Best parameters: {'max_features': 5, 'min_samples_split': 2}\n",
      "Accuracy (mean +/- 2*sd): 0.56 (+/- 0.16)\n",
      "\n",
      "chr21 (112,) 0.46\n",
      "\n",
      "Best parameters: {'max_features': 5, 'min_samples_split': 50}\n",
      "Accuracy (mean +/- 2*sd): 0.49 (+/- 0.23)\n",
      "\n",
      "chr22 (196,) 0.53\n",
      "\n",
      "Best parameters: {'max_features': 20, 'min_samples_split': 50}\n",
      "Accuracy (mean +/- 2*sd): 0.57 (+/- 0.31)\n",
      "\n",
      "chr3 (536,) 0.52\n",
      "\n",
      "Best parameters: {'max_features': 5, 'min_samples_split': 100}\n",
      "Accuracy (mean +/- 2*sd): 0.55 (+/- 0.19)\n",
      "\n",
      "chr4 (396,) 0.49\n",
      "\n",
      "Best parameters: {'max_features': 'auto', 'min_samples_split': 100}\n",
      "Accuracy (mean +/- 2*sd): 0.54 (+/- 0.17)\n",
      "\n",
      "chr5 (371,) 0.51\n",
      "\n",
      "Best parameters: {'max_features': 'auto', 'min_samples_split': 50}\n",
      "Accuracy (mean +/- 2*sd): 0.59 (+/- 0.18)\n",
      "\n",
      "chr6 (509,) 0.49\n",
      "\n",
      "Best parameters: {'max_features': 20, 'min_samples_split': 2}\n",
      "Accuracy (mean +/- 2*sd): 0.59 (+/- 0.14)\n",
      "\n",
      "chr7 (419,) 0.50\n",
      "\n",
      "Best parameters: {'max_features': 'auto', 'min_samples_split': 100}\n",
      "Accuracy (mean +/- 2*sd): 0.53 (+/- 0.06)\n",
      "\n",
      "chr8 (364,) 0.45\n",
      "\n",
      "Best parameters: {'max_features': 5, 'min_samples_split': 50}\n",
      "Accuracy (mean +/- 2*sd): 0.58 (+/- 0.14)\n",
      "\n",
      "chr9 (348,) 0.47\n",
      "\n",
      "Best parameters: {'max_features': 'auto', 'min_samples_split': 10}\n",
      "Accuracy (mean +/- 2*sd): 0.59 (+/- 0.15)\n",
      "\n",
      "chrX (244,) 0.61\n",
      "\n",
      "Best parameters: {'max_features': 5, 'min_samples_split': 100}\n",
      "Accuracy (mean +/- 2*sd): 0.60 (+/- 0.12)\n",
      "\n",
      "chrY (3,) 0.67\n"
     ]
    }
   ],
   "source": [
    "%run scripts/ML_pipelines.py\n",
    "for chrom_name in np.unique(chroms):\n",
    "    chrom = np.where(chroms == chrom_name)[0]\n",
    "    X_chrom = X[chrom,:]\n",
    "    y_chrom = y[chrom]\n",
    "    print \"\\n\",chrom_name,chrom.shape,\"%.2f\"%y_chrom.mean()\n",
    "    try:\n",
    "        SVM_pipeline(X_chrom,y_chrom)\n",
    "    except:\n",
    "        continue\n",
    "del X_chrom,y_chrom"
   ]
  },
  {
   "cell_type": "code",
   "execution_count": 40,
   "metadata": {
    "collapsed": false
   },
   "outputs": [
    {
     "name": "stdout",
     "output_type": "stream",
     "text": [
      "\n",
      "Best parameters: {'max_features': 'auto', 'min_samples_split': 100}\n",
      "Best parameters score: 0.618\n",
      "\n",
      "Ten-fold cross-validation scores using best parameters:\n",
      "[ 0.58  0.7   0.56  0.54  0.66  0.58  0.54  0.6   0.66  0.58]\n",
      "Accuracy: 0.60 (+/- 0.10)\n"
     ]
    }
   ],
   "source": [
    "%run scripts/ML_pipelines.py\n",
    "del clf\n",
    "clf = RF_pipeline(X[:500],y[:500])"
   ]
  },
  {
   "cell_type": "code",
   "execution_count": 175,
   "metadata": {
    "collapsed": false
   },
   "outputs": [
    {
     "data": {
      "text/plain": [
       "RandomForestClassifier(bootstrap=True, class_weight=None, criterion='gini',\n",
       "            max_depth=None, max_features='auto', max_leaf_nodes=None,\n",
       "            min_impurity_split=1e-07, min_samples_leaf=1,\n",
       "            min_samples_split=100, min_weight_fraction_leaf=0.0,\n",
       "            n_estimators=30, n_jobs=1, oob_score=False, random_state=None,\n",
       "            verbose=0, warm_start=False)"
      ]
     },
     "execution_count": 175,
     "metadata": {},
     "output_type": "execute_result"
    }
   ],
   "source": [
    "#Train the classifer on the full training set\n",
    "clf = RandomForestClassifier(n_estimators=30,min_samples_split=100)\n",
    "clf.fit(X_train,y_train)"
   ]
  },
  {
   "cell_type": "code",
   "execution_count": 176,
   "metadata": {
    "collapsed": false
   },
   "outputs": [
    {
     "name": "stdout",
     "output_type": "stream",
     "text": [
      "Accuracy of classifier is 0.56\n"
     ]
    }
   ],
   "source": [
    "#Test the classifier on full test set\n",
    "hRF = clf.predict(X_test)\n",
    "print \"Accuracy of classifier is %.2f\" %clf.score(X_test,y_test)"
   ]
  },
  {
   "cell_type": "markdown",
   "metadata": {},
   "source": [
    "### Applying AdaBoostClassifier"
   ]
  },
  {
   "cell_type": "code",
   "execution_count": 69,
   "metadata": {
    "collapsed": false
   },
   "outputs": [
    {
     "data": {
      "text/plain": [
       "GridSearchCV(cv=10, error_score='raise',\n",
       "       estimator=AdaBoostClassifier(algorithm='SAMME.R', base_estimator=None,\n",
       "          learning_rate=1.0, n_estimators=50, random_state=None),\n",
       "       fit_params={}, iid=True, n_jobs=1,\n",
       "       param_grid={'n_estimators': (50, 100)}, pre_dispatch='2*n_jobs',\n",
       "       refit=True, return_train_score=True, scoring=None, verbose=0)"
      ]
     },
     "execution_count": 69,
     "metadata": {},
     "output_type": "execute_result"
    }
   ],
   "source": [
    "abc = AdaBoostClassifier()\n",
    "abc.get_params()\n",
    "parameters = {'n_estimators':(50, 100)}\n",
    "clf = GridSearchCV(abc, parameters,cv = 10)\n",
    "clf.fit(X,y)"
   ]
  },
  {
   "cell_type": "code",
   "execution_count": 87,
   "metadata": {
    "collapsed": false
   },
   "outputs": [],
   "source": [
    "#print clf.best_params_,clf.best_score_\n",
    "#pd.DataFrame(clf.cv_results_)"
   ]
  },
  {
   "cell_type": "code",
   "execution_count": 86,
   "metadata": {
    "collapsed": false
   },
   "outputs": [
    {
     "name": "stdout",
     "output_type": "stream",
     "text": [
      "[ 0.56306761  0.55600404  0.53985873  0.55196771  0.55959596  0.55757576\n",
      "  0.59393939  0.53434343  0.58543984  0.54499494]\n",
      "Accuracy: 0.56 (+/- 0.04)\n"
     ]
    }
   ],
   "source": [
    "cv = StratifiedKFold(n_splits=10)\n",
    "clf = AdaBoostClassifier()\n",
    "scores = cross_val_score(clf, X, y, cv=cv)\n",
    "print scores       \n",
    "\n",
    "print(\"Accuracy: %0.2f (+/- %0.2f)\" % (scores.mean(), scores.std() * 2))"
   ]
  },
  {
   "cell_type": "code",
   "execution_count": 83,
   "metadata": {
    "collapsed": false
   },
   "outputs": [
    {
     "name": "stdout",
     "output_type": "stream",
     "text": [
      "All ones assignment\n",
      "\n",
      "Accuracy score: 0.51\n"
     ]
    }
   ],
   "source": [
    "#All ones assignemnt\n",
    "yhat = np.ones_like(y)\n",
    "print \"All ones assignment\"\n",
    "print '\\nAccuracy score: %.2f'%metrics.accuracy_score(y,yhat)"
   ]
  },
  {
   "cell_type": "markdown",
   "metadata": {},
   "source": [
    "### Extracting top feature from best classifier and prediction only using those"
   ]
  },
  {
   "cell_type": "code",
   "execution_count": 126,
   "metadata": {
    "collapsed": false
   },
   "outputs": [
    {
     "name": "stdout",
     "output_type": "stream",
     "text": [
      "43 H3K9me3_GSE65687 0.027771517302\n",
      "19 H3K27ac 0.0272310831315\n",
      "2 d_acttss 0.0254593541458\n",
      "5 d_actprom 0.0235609978868\n",
      "40 H3K79me3 0.023171059979\n",
      "42 H3K9me3 0.022423445635\n",
      "33 H3K4me3 0.0218675584392\n",
      "27 H3K27me3_GSE59257 0.0215322926875\n",
      "48 NRSF_GSE53366 0.0210438668155\n",
      "28 H3K27me3_GSE72300 0.0194435653184\n",
      "['H3K9me3_GSE65687', 'H3K27ac', 'd_acttss', 'd_actprom', 'H3K79me3', 'H3K9me3', 'H3K4me3', 'H3K27me3_GSE59257', 'NRSF_GSE53366', 'H3K27me3_GSE72300']\n",
      "[43, 19, 2, 5, 40, 42, 33, 27, 48, 28]\n"
     ]
    }
   ],
   "source": [
    "order = clf.feature_importances_.argsort().tolist()[::-1]\n",
    "for number in order[:10]:\n",
    "    print number,feature_names[number],clf.feature_importances_[number]\n",
    "\n",
    "n_top = 10\n",
    "top_features = [feature_names[x] for x in order[:n_top]]\n",
    "top_features_idx = [x for x in order[:n_top]]\n",
    "\n",
    "print top_features\n",
    "print top_features_idx"
   ]
  },
  {
   "cell_type": "code",
   "execution_count": 151,
   "metadata": {
    "collapsed": false
   },
   "outputs": [],
   "source": [
    "# Create the data matrices with only top features\n",
    "X_train_top = X_train[:,top_features_idx]\n",
    "X_test_top = X_test[:,top_features_idx]"
   ]
  },
  {
   "cell_type": "code",
   "execution_count": 145,
   "metadata": {
    "collapsed": false
   },
   "outputs": [],
   "source": [
    "# cross validate the classifier using the best parameters\n",
    "cv = StratifiedKFold(n_splits=10)\n",
    "clf = RandomForestClassifier(n_estimators=30,min_samples_split=100)\n",
    "scores = cross_val_score(clf, X_train_top, y_train, cv=cv)"
   ]
  },
  {
   "cell_type": "code",
   "execution_count": 146,
   "metadata": {
    "collapsed": false
   },
   "outputs": [
    {
     "name": "stdout",
     "output_type": "stream",
     "text": [
      "[ 0.55600404  0.56710394  0.54086781  0.53380424  0.54949495  0.54949495\n",
      "  0.58383838  0.56868687  0.57330637  0.55915066]\n",
      "Accuracy: 0.56 (+/- 0.03)\n"
     ]
    }
   ],
   "source": [
    "# print the score of cross-validation\n",
    "print scores\n",
    "print(\"Accuracy: %0.2f (+/- %0.2f)\" % (scores.mean(), scores.std() * 2))"
   ]
  },
  {
   "cell_type": "code",
   "execution_count": 147,
   "metadata": {
    "collapsed": false
   },
   "outputs": [
    {
     "data": {
      "text/plain": [
       "RandomForestClassifier(bootstrap=True, class_weight=None, criterion='gini',\n",
       "            max_depth=None, max_features='auto', max_leaf_nodes=None,\n",
       "            min_impurity_split=1e-07, min_samples_leaf=1,\n",
       "            min_samples_split=100, min_weight_fraction_leaf=0.0,\n",
       "            n_estimators=30, n_jobs=1, oob_score=True, random_state=None,\n",
       "            verbose=0, warm_start=False)"
      ]
     },
     "execution_count": 147,
     "metadata": {},
     "output_type": "execute_result"
    }
   ],
   "source": [
    "#Train the classifer on the full training set\n",
    "clf = RandomForestClassifier(n_estimators=30,min_samples_split=100,oob_score=True)\n",
    "clf.fit(X_train_top,y_train)"
   ]
  },
  {
   "cell_type": "code",
   "execution_count": 148,
   "metadata": {
    "collapsed": false
   },
   "outputs": [
    {
     "name": "stdout",
     "output_type": "stream",
     "text": [
      "Accuracy of classifier is 0.55\n"
     ]
    }
   ],
   "source": [
    "#Test the classifier on full test set\n",
    "print \"Accuracy of classifier is %.2f\" %clf.score(X_test_top,y_test)"
   ]
  },
  {
   "cell_type": "code",
   "execution_count": 149,
   "metadata": {
    "collapsed": false,
    "scrolled": true
   },
   "outputs": [
    {
     "name": "stdout",
     "output_type": "stream",
     "text": [
      "4 H3K79me3 0.116644020047\n",
      "5 H3K9me3 0.112269243791\n",
      "9 H3K27me3_GSE72300 0.103792329953\n",
      "6 H3K4me3 0.101230128898\n",
      "8 NRSF_GSE53366 0.100833701343\n",
      "0 H3K9me3_GSE65687 0.0974056983605\n",
      "2 d_acttss 0.0963285343368\n",
      "1 H3K27ac 0.0933202290408\n",
      "7 H3K27me3_GSE59257 0.0926392624873\n",
      "3 d_actprom 0.0855368517435\n"
     ]
    }
   ],
   "source": [
    "order = clf.feature_importances_.argsort().tolist()[::-1]\n",
    "for number in order:\n",
    "    print number,top_features[number],clf.feature_importances_[number]"
   ]
  },
  {
   "cell_type": "code",
   "execution_count": 152,
   "metadata": {
    "collapsed": true
   },
   "outputs": [],
   "source": [
    "del X_train_top,X_test_top"
   ]
  },
  {
   "cell_type": "markdown",
   "metadata": {},
   "source": [
    "### Creating the matrices with log values"
   ]
  },
  {
   "cell_type": "code",
   "execution_count": 14,
   "metadata": {
    "collapsed": false
   },
   "outputs": [
    {
     "ename": "NameError",
     "evalue": "name 'X_test' is not defined",
     "output_type": "error",
     "traceback": [
      "\u001b[0;31m---------------------------------------------------------------------------\u001b[0m",
      "\u001b[0;31mNameError\u001b[0m                                 Traceback (most recent call last)",
      "\u001b[0;32m<ipython-input-14-bbf1c7c8eca8>\u001b[0m in \u001b[0;36m<module>\u001b[0;34m()\u001b[0m\n\u001b[1;32m      1\u001b[0m \u001b[0mX_train_log\u001b[0m \u001b[0;34m=\u001b[0m \u001b[0mnp\u001b[0m\u001b[0;34m.\u001b[0m\u001b[0mc_\u001b[0m\u001b[0;34m[\u001b[0m\u001b[0mnp\u001b[0m\u001b[0;34m.\u001b[0m\u001b[0mlog10\u001b[0m\u001b[0;34m(\u001b[0m\u001b[0mX_train\u001b[0m\u001b[0;34m[\u001b[0m\u001b[0;34m:\u001b[0m\u001b[0;34m,\u001b[0m\u001b[0;34m:\u001b[0m\u001b[0;36m70\u001b[0m\u001b[0;34m]\u001b[0m\u001b[0;34m+\u001b[0m\u001b[0;36m1\u001b[0m\u001b[0;34m)\u001b[0m\u001b[0;34m,\u001b[0m\u001b[0mX_train\u001b[0m\u001b[0;34m[\u001b[0m\u001b[0;34m:\u001b[0m\u001b[0;34m,\u001b[0m\u001b[0;36m70\u001b[0m\u001b[0;34m:\u001b[0m\u001b[0;34m]\u001b[0m\u001b[0;34m]\u001b[0m\u001b[0;34m\u001b[0m\u001b[0m\n\u001b[0;32m----> 2\u001b[0;31m \u001b[0mX_test_log\u001b[0m \u001b[0;34m=\u001b[0m \u001b[0mnp\u001b[0m\u001b[0;34m.\u001b[0m\u001b[0mc_\u001b[0m\u001b[0;34m[\u001b[0m\u001b[0mnp\u001b[0m\u001b[0;34m.\u001b[0m\u001b[0mlog10\u001b[0m\u001b[0;34m(\u001b[0m\u001b[0mX_test\u001b[0m\u001b[0;34m[\u001b[0m\u001b[0;34m:\u001b[0m\u001b[0;34m,\u001b[0m\u001b[0;34m:\u001b[0m\u001b[0;36m70\u001b[0m\u001b[0;34m]\u001b[0m\u001b[0;34m+\u001b[0m\u001b[0;36m1\u001b[0m\u001b[0;34m)\u001b[0m\u001b[0;34m,\u001b[0m\u001b[0mX_test\u001b[0m\u001b[0;34m[\u001b[0m\u001b[0;34m:\u001b[0m\u001b[0;34m,\u001b[0m\u001b[0;36m70\u001b[0m\u001b[0;34m:\u001b[0m\u001b[0;34m]\u001b[0m\u001b[0;34m]\u001b[0m\u001b[0;34m\u001b[0m\u001b[0m\n\u001b[0m",
      "\u001b[0;31mNameError\u001b[0m: name 'X_test' is not defined"
     ]
    }
   ],
   "source": [
    "X_train_log = np.c_[np.log10(X_train[:,:70]+1),X_train[:,70:]]\n",
    "X_test_log = np.c_[np.log10(X_test[:,:70]+1),X_test[:,70:]]"
   ]
  },
  {
   "cell_type": "markdown",
   "metadata": {},
   "source": [
    "### Kernel PCA"
   ]
  },
  {
   "cell_type": "code",
   "execution_count": 39,
   "metadata": {
    "collapsed": false
   },
   "outputs": [
    {
     "name": "stdout",
     "output_type": "stream",
     "text": [
      "Time taken: 10.604\n"
     ]
    }
   ],
   "source": [
    "#X_train_log = minmax_scale(X_train_log)\n",
    "t1 = time()\n",
    "kpca = KernelPCA(3,kernel=\"rbf\", gamma=.1,n_jobs=-1)\n",
    "X_kpca = kpca.fit_transform(X_train_log)\n",
    "print \"Time taken: %.3f\"%(time()-t1)"
   ]
  },
  {
   "cell_type": "code",
   "execution_count": 40,
   "metadata": {
    "collapsed": false
   },
   "outputs": [
    {
     "data": {
      "text/plain": [
       "array([ 704.73369209,  550.56345516,  300.27094407])"
      ]
     },
     "execution_count": 40,
     "metadata": {},
     "output_type": "execute_result"
    }
   ],
   "source": [
    "kpca.lambdas_"
   ]
  },
  {
   "cell_type": "code",
   "execution_count": 35,
   "metadata": {
    "collapsed": true
   },
   "outputs": [],
   "source": [
    "reds = y_train == 0\n",
    "blues = y_train == 1"
   ]
  },
  {
   "cell_type": "code",
   "execution_count": 37,
   "metadata": {
    "collapsed": false
   },
   "outputs": [
    {
     "data": {
      "text/plain": [
       "<matplotlib.text.Text at 0x11c1f2cd0>"
      ]
     },
     "execution_count": 37,
     "metadata": {},
     "output_type": "execute_result"
    },
    {
     "data": {
      "image/png": "[encoded data removed]",
      "text/plain": [
       "<matplotlib.figure.Figure at 0x11c1f8210>"
      ]
     },
     "metadata": {},
     "output_type": "display_data"
    }
   ],
   "source": [
    "pcx = 0\n",
    "pcy = 2\n",
    "plt.plot(X_kpca[reds, pcx], X_kpca[reds, pcy], \"ro\")\n",
    "plt.plot(X_kpca[blues, pcx], X_kpca[blues, pcy], \"bo\")\n",
    "plt.title(\"Projection by KPCA\")\n",
    "plt.xlabel(\"%dst principal component in space induced by $\\phi$\"%(pcx+1))\n",
    "plt.ylabel(\"%dnd component\"%(pcy+1))"
   ]
  },
  {
   "cell_type": "markdown",
   "metadata": {},
   "source": [
    "### Applying logistic classification log values of features"
   ]
  },
  {
   "cell_type": "markdown",
   "metadata": {},
   "source": [
    "Below is the distribution"
   ]
  },
  {
   "cell_type": "code",
   "execution_count": 153,
   "metadata": {
    "collapsed": false
   },
   "outputs": [],
   "source": [
    "#df.hist(\"POL2_GSE65687\",bins = 100,figsize = (10,10))\n",
    "#some_feature = X[:,54]\n",
    "#plt.figure(figsize = (10,10))\n",
    "#plt.hist(some_feature+1,bins = 100)\n",
    "#plt.hist(np.log10(some_feature+1),bins = 100)\n",
    "#plt.show"
   ]
  },
  {
   "cell_type": "code",
   "execution_count": 77,
   "metadata": {
    "collapsed": false
   },
   "outputs": [
    {
     "data": {
      "text/plain": [
       "9.0"
      ]
     },
     "execution_count": 77,
     "metadata": {},
     "output_type": "execute_result"
    }
   ],
   "source": [
    "np.log10(1e9)"
   ]
  },
  {
   "cell_type": "code",
   "execution_count": 33,
   "metadata": {
    "collapsed": false
   },
   "outputs": [
    {
     "name": "stdout",
     "output_type": "stream",
     "text": [
      "0.218564792105\n"
     ]
    },
    {
     "data": {
      "text/plain": [
       "array([ 0.,  1.,  0.,  0.,  0.,  0.,  0.,  1.,  1.,  1.,  0.,  1.,  1.,\n",
       "        1.,  1.,  0.,  1.,  1.,  1.,  0.,  1.,  1.,  1.,  1.,  1.,  1.,\n",
       "        0.,  1.,  0.,  1.,  1.,  0.,  1.,  0.,  1.,  1.,  1.,  1.,  1.,\n",
       "        1.,  0.,  1.,  0.,  0.,  1.,  1.,  1.,  1.,  0.,  1.,  0.,  1.,\n",
       "        1.,  1.,  0.,  1.,  1.,  0.,  1.,  1.,  1.,  0.,  0.,  0.,  1.,\n",
       "        0.,  0.,  0.,  0.,  1.,  1.,  0.,  0.,  0.,  0.,  1.])"
      ]
     },
     "execution_count": 33,
     "metadata": {},
     "output_type": "execute_result"
    }
   ],
   "source": [
    "threshold = 5000\n",
    "print np.where(X[:,:70] > threshold,0.,1.).sum()/(X[:,:70].shape[0]*X[:,:70].shape[1])\n",
    "X_binary = np.c_[np.where(X[:,:70] > threshold,0.,1.),X[:,70:]]\n",
    "X_binary[0,:]"
   ]
  },
  {
   "cell_type": "markdown",
   "metadata": {
    "collapsed": true
   },
   "source": [
    "### Applying SVM"
   ]
  },
  {
   "cell_type": "code",
   "execution_count": 157,
   "metadata": {
    "collapsed": false,
    "scrolled": true
   },
   "outputs": [
    {
     "name": "stdout",
     "output_type": "stream",
     "text": [
      "Training SVM took 14.32 s.\n"
     ]
    }
   ],
   "source": [
    "# timing the SVM\n",
    "t1 = time()\n",
    "clf = make_pipeline(MinMaxScaler(), svm.SVC(C = 1,gamma=0.1))\n",
    "clf.fit(X_train_log,y_train)\n",
    "print \"Training SVM took %.2f s.\" %(time()-t1)"
   ]
  },
  {
   "cell_type": "code",
   "execution_count": 162,
   "metadata": {
    "collapsed": false
   },
   "outputs": [
    {
     "name": "stdout",
     "output_type": "stream",
     "text": [
      "(9902, 76)\n"
     ]
    },
    {
     "data": {
      "text/plain": [
       "0.59099171884467783"
      ]
     },
     "execution_count": 162,
     "metadata": {},
     "output_type": "execute_result"
    }
   ],
   "source": [
    "print X_train_log.shape\n",
    "clf.score(X_train_log,y_train)"
   ]
  },
  {
   "cell_type": "code",
   "execution_count": 164,
   "metadata": {
    "collapsed": false
   },
   "outputs": [
    {
     "name": "stdout",
     "output_type": "stream",
     "text": [
      "(2979, 76)\n"
     ]
    },
    {
     "data": {
      "text/plain": [
       "0.5501846257133266"
      ]
     },
     "execution_count": 164,
     "metadata": {},
     "output_type": "execute_result"
    }
   ],
   "source": [
    "print X_test_log.shape\n",
    "clf.score(X_test_log,y_test)"
   ]
  },
  {
   "cell_type": "code",
   "execution_count": null,
   "metadata": {
    "collapsed": true
   },
   "outputs": [],
   "source": [
    "# perform the grid search to find the best parameters\n",
    "clf = make_pipeline(MinMaxScaler(), svm.SVC())\n",
    "print clf.get_params().keys()\n",
    "parameters = {\"svc__C\":[1],\"svc__gamma\":[0.1,.2,.5]}\n",
    "clf = GridSearchCV(clf, parameters,cv = 5)\n",
    "clf.fit(X_train_log,y_train)"
   ]
  },
  {
   "cell_type": "code",
   "execution_count": null,
   "metadata": {
    "collapsed": true
   },
   "outputs": [],
   "source": [
    "# print the result of grid search\n",
    "print clf.best_params_,clf.best_score_\n",
    "cv_results = pd.DataFrame(clf.cv_results_)\n",
    "cv_results\n",
    "cv_results[['params',\"mean_test_score\",\"std_test_score\",'rank_test_score']].sort_values(by=\"rank_test_score\")"
   ]
  },
  {
   "cell_type": "code",
   "execution_count": 181,
   "metadata": {
    "collapsed": false
   },
   "outputs": [
    {
     "name": "stdout",
     "output_type": "stream",
     "text": [
      "33.0519340038\n"
     ]
    }
   ],
   "source": [
    "# cross validate the classifier using the best parameters\n",
    "t1 = time()\n",
    "cv = StratifiedKFold(n_splits=5)\n",
    "clf = make_pipeline(MinMaxScaler(), svm.SVC(C = 1,gamma=0.1))\n",
    "scores = cross_val_score(clf, X_train_log, y_train, cv=cv,n_jobs=-1)\n",
    "print time()-t1"
   ]
  },
  {
   "cell_type": "code",
   "execution_count": 180,
   "metadata": {
    "collapsed": false
   },
   "outputs": [
    {
     "name": "stdout",
     "output_type": "stream",
     "text": [
      "[ 0.55830389  0.5572943   0.55376073  0.58585859  0.57655382]\n",
      "Accuracy: 0.57 (+/- 0.03)\n"
     ]
    }
   ],
   "source": [
    "# print the results of cross-validation\n",
    "print scores       \n",
    "print(\"Accuracy: %0.2f (+/- %0.2f)\" % (scores.mean(), scores.std() * 2))"
   ]
  },
  {
   "cell_type": "code",
   "execution_count": 168,
   "metadata": {
    "collapsed": false
   },
   "outputs": [
    {
     "data": {
      "text/plain": [
       "Pipeline(steps=[('minmaxscaler', MinMaxScaler(copy=True, feature_range=(0, 1))), ('svc', SVC(C=1, cache_size=200, class_weight=None, coef0=0.0,\n",
       "  decision_function_shape=None, degree=3, gamma=0.1, kernel='rbf',\n",
       "  max_iter=-1, probability=False, random_state=None, shrinking=True,\n",
       "  tol=0.001, verbose=False))])"
      ]
     },
     "execution_count": 168,
     "metadata": {},
     "output_type": "execute_result"
    }
   ],
   "source": [
    "#Train the classifer on the full training set\n",
    "clf = make_pipeline(MinMaxScaler(), svm.SVC(C = 1,gamma=0.1))\n",
    "clf.fit(X_train_log,y_train)"
   ]
  },
  {
   "cell_type": "code",
   "execution_count": 170,
   "metadata": {
    "collapsed": false
   },
   "outputs": [
    {
     "name": "stdout",
     "output_type": "stream",
     "text": [
      "Accuracy of classifier is 0.55\n"
     ]
    }
   ],
   "source": [
    "#Test the classifier on full test set\n",
    "hSVM = clf.predict(X_test_log)\n",
    "print \"Accuracy of classifier is %.2f\" %clf.score(X_test_log,y_test)"
   ]
  },
  {
   "cell_type": "code",
   "execution_count": 173,
   "metadata": {
    "collapsed": false
   },
   "outputs": [
    {
     "data": {
      "text/plain": [
       "0.78147029204431018"
      ]
     },
     "execution_count": 173,
     "metadata": {},
     "output_type": "execute_result"
    }
   ],
   "source": [
    "metrics.accuracy_score(hRF,hSVM)"
   ]
  }
 ],
 "metadata": {
  "anaconda-cloud": {},
  "kernelspec": {
   "display_name": "Python 2",
   "language": "python",
   "name": "python2"
  },
  "language_info": {
   "codemirror_mode": {
    "name": "ipython",
    "version": 2
   },
   "file_extension": ".py",
   "mimetype": "text/x-python",
   "name": "python",
   "nbconvert_exporter": "python",
   "pygments_lexer": "ipython2",
   "version": "2.7.13"
  }
 },
 "nbformat": 4,
 "nbformat_minor": 0
}

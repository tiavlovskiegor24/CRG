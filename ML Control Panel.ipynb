{
 "cells": [
  {
   "cell_type": "markdown",
   "metadata": {},
   "source": [
    "## 0. Setup"
   ]
  },
  {
   "cell_type": "code",
   "execution_count": 1,
   "metadata": {
    "collapsed": true
   },
   "outputs": [],
   "source": [
    "%matplotlib inline\n",
    "import matplotlib.pyplot as plt"
   ]
  },
  {
   "cell_type": "code",
   "execution_count": 2,
   "metadata": {
    "collapsed": false
   },
   "outputs": [
    {
     "data": {
      "application/javascript": [
       "IPython.OutputArea.prototype._should_scroll = function(lines) {\n",
       "    return false;\n",
       "}"
      ],
      "text/plain": [
       "<IPython.core.display.Javascript object>"
      ]
     },
     "metadata": {},
     "output_type": "display_data"
    }
   ],
   "source": [
    "%%javascript\n",
    "IPython.OutputArea.prototype._should_scroll = function(lines) {\n",
    "    return false;\n",
    "}"
   ]
  },
  {
   "cell_type": "code",
   "execution_count": 3,
   "metadata": {
    "collapsed": false
   },
   "outputs": [
    {
     "name": "stdout",
     "output_type": "stream",
     "text": [
      "/home/etiavlovsky/CRG/scripts\n"
     ]
    }
   ],
   "source": [
    "cd ~/CRG/scripts"
   ]
  },
  {
   "cell_type": "markdown",
   "metadata": {},
   "source": [
    "## 1. Forming full feature data set"
   ]
  },
  {
   "cell_type": "markdown",
   "metadata": {},
   "source": [
    "## 2. Preparing inputs for Machine Learning"
   ]
  },
  {
   "cell_type": "code",
   "execution_count": 4,
   "metadata": {
    "collapsed": false
   },
   "outputs": [],
   "source": [
    "%run dataset_processing.py"
   ]
  },
  {
   "cell_type": "code",
   "execution_count": 5,
   "metadata": {
    "collapsed": false
   },
   "outputs": [
    {
     "name": "stdout",
     "output_type": "stream",
     "text": [
      "\n",
      "\n",
      "1. Encoding categorical features\n",
      "\n",
      "\tThere are (5,) unique values for \"cat\" feature.\n",
      "\t['AG' 'AP' 'EN' 'IN' 'SG']\n",
      "\n",
      "\tThere are (2,) unique values for \"strand\" feature.\n",
      "\t['+' '-']\n",
      "\n",
      "\tThere are (5,) unique values for \"cat\" feature.\n",
      "\t['AG' 'AP' 'EN' 'IN' 'SG']\n",
      "\n",
      "\tThere are (2,) unique values for \"strand\" feature.\n",
      "\t['+' '-']\n",
      "\n",
      "\n",
      "2. Identifying features present in the dataset\n",
      "\n",
      "\t69 features of type 'distance' are present\n",
      "\t\tExcluding feature type: 'distance'\n",
      "\n",
      "\t1 features of type 'row_sum' are present\n",
      "\n",
      "\t58 features of type 'chip_c_hb_r' are present\n",
      "\t\tExcluding feature type: 'chip_c_hb_r'\n",
      "\n",
      "\t1 features of type 'intra_inter_ratio' are present\n",
      "\n",
      "\t58 features of type 'chip_c_zb_r' are present\n",
      "\t\tExcluding feature type: 'chip_c_zb_r'\n",
      "\n",
      "\t58 features of type 'chip_c_hb' are present\n",
      "\t\tExcluding feature type: 'chip_c_hb'\n",
      "\n",
      "\t1 features of type 'ab_score' are present\n",
      "\n",
      "\t58 features of type 'chip_c_zb' are present\n",
      "\t\tExcluding feature type: 'chip_c_zb'\n",
      "\n",
      "\t7 features of type 'one_hot' are present\n",
      "\n",
      "\t1 features of type 'contact_decay' are present\n",
      "\n",
      "\t1 features of type 'gmfpt' are present\n",
      "\n",
      "\tList of excluded individual features:\n",
      "\t['DNA', 'mapq', 'pos', 'chrom', 'targets', 'expr', 'RNA', 'pos_expr', 'brcd', 'nread', 'rep', 'gene_name']\n",
      "\n",
      "\n",
      "3. Preprocessing feature type values\n",
      "\n",
      "\tPreprocessing 'row_sum' features\n",
      "\tShrinking top 99.0% and bottom 1.0% of samples\n",
      "\tRescaling values to 0-1 range\n",
      "\t0 train and 0 test  samples remaining with Nan values for 'row_sum' features.\n",
      "\n",
      "\tPreprocessing 'intra_inter_ratio' features\n",
      "\tShrinking top 99.0% and bottom 1.0% of samples\n",
      "\tRescaling values to 0-1 range\n",
      "\t0 train and 0 test  samples remaining with Nan values for 'intra_inter_ratio' features.\n",
      "\n",
      "\tPreprocessing 'ab_score' features\n",
      "\tRescaling 'ab_score' to 0-1 range\n",
      "\tRescaling 'ab_score' to 0-1 range\n",
      "\t2 train and 0 test  samples remaining with Nan values for 'ab_score' features.\n",
      "\n",
      "\tPreprocessing 'gmfpt' features\n",
      "\tApplying log1p to 'gmfpt' values\n",
      "\tShrinking top 98.0% and bottom 2.0% of samples\n",
      "\tRescaling 'gmfpt' to 0-1 range\n",
      "\tApplying log1p to 'gmfpt' values\n",
      "\t117 train and 8 test  samples remaining with Nan values for 'gmfpt' features.\n",
      "\n",
      "\tPreprocessing 'contact_decay' features\n",
      "\tShrinking top 99.0% and bottom 1.0% of samples\n",
      "\tRescaling values to 0-1 range\n",
      "\t0 train and 0 test  samples remaining with Nan values for 'contact_decay' features.\n",
      "\n",
      "\n",
      "4. Extracting target values\n",
      "\n",
      "\tUsing 'exp_ratio_cont' target type\n",
      "\n",
      "\tComputing the RNA/DNA expression ratio as our target values\n",
      "\n",
      "\tProblem is a regression with targets on a continuous scale\n",
      "\n",
      "\tTaking the log of targets (expression ratio)\n",
      "\n",
      "\tRescaling the targets to 0-1 range\n",
      "\n",
      "\t0 train and 0 test targets remaining with Nan values\n",
      "\n",
      "\n",
      "5. Excluding total of 117 train and 8 test samples with NaN entries\n",
      "\n",
      "\n",
      "6. Exctacting feature matrix\n"
     ]
    }
   ],
   "source": [
    "ML_inputs = get_ML_inputs()"
   ]
  },
  {
   "cell_type": "markdown",
   "metadata": {},
   "source": [
    "## Running Machine Learning"
   ]
  },
  {
   "cell_type": "code",
   "execution_count": 6,
   "metadata": {
    "collapsed": true
   },
   "outputs": [],
   "source": [
    "%run ML_pipelines.py"
   ]
  },
  {
   "cell_type": "markdown",
   "metadata": {},
   "source": [
    "### Regression"
   ]
  },
  {
   "cell_type": "code",
   "execution_count": 14,
   "metadata": {
    "collapsed": false,
    "scrolled": true
   },
   "outputs": [
    {
     "name": "stdout",
     "output_type": "stream",
     "text": [
      "\tReturning masked 'train' data\n",
      "\n",
      "Running ML with RF_Regressor...\n",
      "\n",
      "\tPerforming parameter grid search...\n",
      "\n",
      "\t\tTime taken:10.95\n",
      "\n",
      "\t\tBest parameters: {'max_features': 'sqrt', 'min_samples_split': 300, 'n_estimators': 20}\n",
      "\n",
      "\t\tCV 'train' score (mean +/- 2*sd): 0.07 (+/- 0.01)\n",
      "\n",
      "\t\tCV 'test' score (mean +/- 2*sd): 0.01 (+/- 0.02)\n",
      "\n",
      "Train score is 0.08\n",
      "\tReturning masked 'test' data\n",
      "\n",
      "Test score is 0.02\n"
     ]
    }
   ],
   "source": [
    "estimator = \"RF_Regressor\"\n",
    "clf = run_ML(ML_inputs,estimator)"
   ]
  },
  {
   "cell_type": "code",
   "execution_count": 15,
   "metadata": {
    "collapsed": false
   },
   "outputs": [
    {
     "name": "stdout",
     "output_type": "stream",
     "text": [
      "\tReturning masked 'train' data\n",
      "\n",
      "Running ML with DT_Regressor...\n",
      "\n",
      "\t\tTime taken:0.54\n",
      "\n",
      "\t\tCV 'train' score (mean +/- 2*sd): 0.92 (+/- 0.02)\n",
      "\n",
      "\t\tCV 'test' score (mean +/- 2*sd): -1.58 (+/- 1.34)\n",
      "\n",
      "Train score is 0.92\n",
      "\tReturning masked 'test' data\n",
      "\n",
      "Test score is -0.86\n"
     ]
    }
   ],
   "source": [
    "estimator = \"DT_Regressor\"\n",
    "clf = run_ML(ML_inputs,estimator,parameters = {})"
   ]
  },
  {
   "cell_type": "code",
   "execution_count": 16,
   "metadata": {
    "collapsed": false
   },
   "outputs": [
    {
     "name": "stdout",
     "output_type": "stream",
     "text": [
      "\tReturning masked 'train' data\n",
      "\n",
      "Running ML with kNN_R...\n",
      "\n",
      "\tPerforming parameter grid search...\n",
      "\n",
      "\t\tTime taken:6.27\n",
      "\n",
      "\t\tBest parameters: {'n_neighbors': 100, 'weights': 'uniform'}\n",
      "\n",
      "\t\tCV 'train' score (mean +/- 2*sd): 0.03 (+/- 0.00)\n",
      "\n",
      "\t\tCV 'test' score (mean +/- 2*sd): 0.01 (+/- 0.01)\n",
      "\n",
      "Train score is 0.03\n",
      "\tReturning masked 'test' data\n",
      "\n",
      "Test score is 0.03\n"
     ]
    }
   ],
   "source": [
    "estimator = \"kNN_R\"\n",
    "clf = run_ML(ML_inputs,estimator)"
   ]
  },
  {
   "cell_type": "code",
   "execution_count": 17,
   "metadata": {
    "collapsed": false
   },
   "outputs": [
    {
     "name": "stdout",
     "output_type": "stream",
     "text": [
      "\tReturning masked 'train' data\n",
      "\n",
      "Running ML with GB_R...\n",
      "\n",
      "\tPerforming parameter grid search...\n",
      "\n",
      "\t\tTime taken:26.79\n",
      "\n",
      "\t\tBest parameters: {'n_estimators': 100, 'loss': 'ls', 'max_depth': 3}\n",
      "\n",
      "\t\tCV 'train' score (mean +/- 2*sd): 0.10 (+/- 0.01)\n",
      "\n",
      "\t\tCV 'test' score (mean +/- 2*sd): -0.05 (+/- 0.15)\n",
      "\n",
      "Train score is 0.08\n",
      "\tReturning masked 'test' data\n",
      "\n",
      "Test score is 0.02\n"
     ]
    }
   ],
   "source": [
    "estimator = \"GB_R\"\n",
    "clf = run_ML(ML_inputs,estimator)"
   ]
  },
  {
   "cell_type": "code",
   "execution_count": 23,
   "metadata": {
    "collapsed": false,
    "scrolled": true
   },
   "outputs": [
    {
     "name": "stdout",
     "output_type": "stream",
     "text": [
      "\tReturning masked 'train' data\n",
      "\n",
      "Running ML with LR...\n",
      "\n",
      "\t\tTime taken:0.32\n",
      "\n",
      "\t\tCV 'train' score (mean +/- 2*sd): 0.02 (+/- 0.01)\n",
      "\n",
      "\t\tCV 'test' score (mean +/- 2*sd): 0.02 (+/- 0.02)\n",
      "\n",
      "Train score is 0.02\n",
      "\tReturning masked 'test' data\n",
      "\n",
      "Test score is 0.03\n"
     ]
    }
   ],
   "source": [
    "%run ML_pipelines.py\n",
    "estimator = \"LR\"\n",
    "clf = run_ML(ML_inputs,estimator)"
   ]
  },
  {
   "cell_type": "code",
   "execution_count": 25,
   "metadata": {
    "collapsed": false
   },
   "outputs": [
    {
     "name": "stdout",
     "output_type": "stream",
     "text": [
      "\tReturning masked 'train' data\n",
      "\n",
      "Running ML with Lasso...\n",
      "\n",
      "\tPerforming parameter grid search...\n"
     ]
    },
    {
     "name": "stderr",
     "output_type": "stream",
     "text": [
      "/home/etiavlovsky/anaconda2/lib/python2.7/site-packages/sklearn/linear_model/coordinate_descent.py:484: ConvergenceWarning: Objective did not converge. You might want to increase the number of iterations. Fitting data with very small alpha may cause precision problems.\n",
      "  ConvergenceWarning)\n",
      "/home/etiavlovsky/anaconda2/lib/python2.7/site-packages/sklearn/linear_model/coordinate_descent.py:484: ConvergenceWarning: Objective did not converge. You might want to increase the number of iterations. Fitting data with very small alpha may cause precision problems.\n",
      "  ConvergenceWarning)\n",
      "/home/etiavlovsky/anaconda2/lib/python2.7/site-packages/sklearn/linear_model/coordinate_descent.py:484: ConvergenceWarning: Objective did not converge. You might want to increase the number of iterations. Fitting data with very small alpha may cause precision problems.\n",
      "  ConvergenceWarning)\n"
     ]
    },
    {
     "name": "stdout",
     "output_type": "stream",
     "text": [
      "\n",
      "\t\tTime taken:2.14\n",
      "\n",
      "\t\tBest parameters: {'alpha': 1e-05}\n",
      "\n",
      "\t\tCV 'train' score (mean +/- 2*sd): 0.02 (+/- 0.01)\n",
      "\n",
      "\t\tCV 'test' score (mean +/- 2*sd): 0.02 (+/- 0.02)\n",
      "\n",
      "Train score is 0.02\n",
      "\tReturning masked 'test' data\n",
      "\n",
      "Test score is 0.03\n"
     ]
    }
   ],
   "source": [
    "%run ML_pipelines.py\n",
    "estimator = \"Lasso\"\n",
    "clf = run_ML(ML_inputs,estimator)"
   ]
  },
  {
   "cell_type": "markdown",
   "metadata": {},
   "source": [
    "### Classification"
   ]
  },
  {
   "cell_type": "code",
   "execution_count": 20,
   "metadata": {
    "collapsed": false
   },
   "outputs": [
    {
     "name": "stdout",
     "output_type": "stream",
     "text": [
      "\tReturning masked 'train' data\n",
      "\n",
      "Running ML with DT_C...\n",
      "\n",
      "\tPerforming parameter grid search...\n",
      "\n",
      "\t\tTime taken:4.65\n",
      "\n",
      "\t\tBest parameters: {}\n",
      "\n",
      "\t\tCV 'train' score (mean +/- 2*sd): 0.97 (+/- 0.01)\n",
      "\n",
      "\t\tCV 'test' score (mean +/- 2*sd): 0.49 (+/- 0.01)\n",
      "\n",
      "Train score is 0.96\n",
      "\tReturning masked 'test' data\n",
      "\n",
      "Test score is 0.49\n"
     ]
    }
   ],
   "source": [
    "%run ML_pipelines.py\n",
    "estimator = \"DT_C\"\n",
    "clf = run_ML(ML_inputs,estimator,parameters = {})"
   ]
  },
  {
   "cell_type": "code",
   "execution_count": 25,
   "metadata": {
    "collapsed": false
   },
   "outputs": [
    {
     "name": "stdout",
     "output_type": "stream",
     "text": [
      "\tReturning masked 'train' data\n",
      "\n",
      "Running ML with RF_C...\n",
      "\n",
      "\tPerforming parameter grid search...\n",
      "\n",
      "\t\tTime taken:22.67\n",
      "\n",
      "\t\tBest parameters: {'max_features': 'auto', 'min_samples_split': 300, 'n_estimators': 10}\n",
      "\n",
      "\t\tCV 'train' score (mean +/- 2*sd): 0.65 (+/- 0.02)\n",
      "\n",
      "\t\tCV 'test' score (mean +/- 2*sd): 0.53 (+/- 0.01)\n",
      "\n",
      "Train score is 0.65\n",
      "\tReturning masked 'test' data\n",
      "\n",
      "Test score is 0.53\n"
     ]
    }
   ],
   "source": [
    "%run ML_pipelines.py\n",
    "estimator = \"RF_C\"\n",
    "clf = run_ML(ML_inputs,estimator,parameters = \"default\")"
   ]
  }
 ],
 "metadata": {
  "kernelspec": {
   "display_name": "Python 2",
   "language": "python",
   "name": "python2"
  },
  "language_info": {
   "codemirror_mode": {
    "name": "ipython",
    "version": 2
   },
   "file_extension": ".py",
   "mimetype": "text/x-python",
   "name": "python",
   "nbconvert_exporter": "python",
   "pygments_lexer": "ipython2",
   "version": "2.7.13"
  }
 },
 "nbformat": 4,
 "nbformat_minor": 2
}
